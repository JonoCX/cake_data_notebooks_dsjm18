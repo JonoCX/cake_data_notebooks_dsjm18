{
 "cells": [
  {
   "cell_type": "markdown",
   "metadata": {},
   "source": [
    "## Exploratory Analysis (Time Series, etc.)\n",
    "This is the time-series based analysis of the CAKE data. \n",
    "\n",
    "We have identified users that have reported technical difficulties during the CAKE experience, what behaviours do they present? \n",
    "\n",
    "More specifically, what did the participants report themselves:\n",
    "- 109: \"video wouldn't load so switched to read mode\"\n",
    "- 425: \"videos very slow to load so ended up not watching\"\n",
    "- 407: \"login didn't work\"\n",
    "- 205: \"videos didn't play at all\"\n",
    "- 121: \"wasn't clear how many oranges we needed\"\n",
    "- 112: \"unable to view the videos\"\n",
    "- 220: \"the video kept buffering, followed \"read\" instead\"\n",
    "- 217: \"video didn't load so followed written instruction\"\n",
    "- 113: \"the video didn't work, followed written instruction\"\n",
    "- 401: \"video kept freezing\""
   ]
  },
  {
   "cell_type": "code",
   "execution_count": 1,
   "metadata": {},
   "outputs": [],
   "source": [
    "%matplotlib inline\n",
    "import pandas as pd\n",
    "import matplotlib.pyplot as plt\n",
    "import numpy as np"
   ]
  },
  {
   "cell_type": "markdown",
   "metadata": {},
   "source": [
    "Firstly, let's import the techincal difficulties data (both the raw event data and the statistical data)."
   ]
  },
  {
   "cell_type": "code",
   "execution_count": 2,
   "metadata": {},
   "outputs": [],
   "source": [
    "df_raw = pd.read_csv('./data/technical-difficult-interactions.csv')\n",
    "df_stats = pd.read_csv('./data/technical-difficult-interactions_results.csv')"
   ]
  },
  {
   "cell_type": "markdown",
   "metadata": {},
   "source": [
    "Currently, the timestamp column is an object. Let's convert it to a date time object, this will aid later in the process."
   ]
  },
  {
   "cell_type": "code",
   "execution_count": 3,
   "metadata": {},
   "outputs": [],
   "source": [
    "df_raw['timestamp'] = pd.to_datetime(df_raw['timestamp'])"
   ]
  },
  {
   "cell_type": "markdown",
   "metadata": {},
   "source": [
    "In terms of visualisation, let's first look at the total number of events recorded for each of these participants"
   ]
  },
  {
   "cell_type": "code",
   "execution_count": 4,
   "metadata": {},
   "outputs": [
    {
     "data": {
      "text/plain": [
       "<matplotlib.axes._subplots.AxesSubplot at 0x10ee92b38>"
      ]
     },
     "execution_count": 4,
     "metadata": {},
     "output_type": "execute_result"
    },
    {
     "data": {
      "image/png": "[encoded data removed]",
      "text/plain": [
       "<matplotlib.figure.Figure at 0x10ee84f98>"
      ]
     },
     "metadata": {},
     "output_type": "display_data"
    }
   ],
   "source": [
    "df_stats.plot(x='userid', y='totalEvents', kind='bar', legend=False)"
   ]
  },
  {
   "cell_type": "markdown",
   "metadata": {},
   "source": [
    "Well, what does that tell us? Nothing, really. Notable things from this plot; 220 has a larger amount of recorded interactions, while both 401 and 407 have essentially none - the rest of the group are rougly around the same mark. Let's find out the descriptive statistics for the totalEvents."
   ]
  },
  {
   "cell_type": "code",
   "execution_count": 5,
   "metadata": {},
   "outputs": [
    {
     "data": {
      "text/plain": [
       "count     10.000000\n",
       "mean      63.200000\n",
       "std       49.138806\n",
       "min        1.000000\n",
       "25%       42.500000\n",
       "50%       64.000000\n",
       "75%       77.750000\n",
       "max      176.000000\n",
       "Name: totalEvents, dtype: float64"
      ]
     },
     "execution_count": 5,
     "metadata": {},
     "output_type": "execute_result"
    }
   ],
   "source": [
    "df_stats['totalEvents'].describe()"
   ]
  },
  {
   "cell_type": "markdown",
   "metadata": {},
   "source": [
    "So yes, the majority of users in this case hover around the mean of the totalEvents count. Presumably (I know, shouldn't really make presumptions without evidence) they all got to a particular point in the experience and gave up? In terms of comparison, let's have a look at the totalEvents for the interaction events collected during the live period of the experimental study."
   ]
  },
  {
   "cell_type": "code",
   "execution_count": 6,
   "metadata": {},
   "outputs": [
    {
     "data": {
      "text/plain": [
       "count    116.000000\n",
       "mean      45.810345\n",
       "std       47.161132\n",
       "min        1.000000\n",
       "25%       10.000000\n",
       "50%       38.500000\n",
       "75%       62.250000\n",
       "max      282.000000\n",
       "Name: totalEvents, dtype: float64"
      ]
     },
     "execution_count": 6,
     "metadata": {},
     "output_type": "execute_result"
    }
   ],
   "source": [
    "df_live_stats = pd.read_csv('./data/live-interactions_statistics_results.csv')\n",
    "df_live_stats['totalEvents'].describe()"
   ]
  },
  {
   "cell_type": "markdown",
   "metadata": {},
   "source": [
    "So it's clear from above that the live data has a lower mean (when considering the total number of events per user). Does this show a trend? Possibly. There could be an argument that the higher (mean) number of events is just coincidental or that it shows people that experience technical difficulties produce, on average, a larger quantity of events.\n",
    "\n",
    "Okay then, what about the length of time they spent on the experience? The statistical data is in __seconds__ so let's convert it to __minutes__ first and then plot."
   ]
  },
  {
   "cell_type": "code",
   "execution_count": 7,
   "metadata": {},
   "outputs": [
    {
     "data": {
      "text/plain": [
       "<matplotlib.axes._subplots.AxesSubplot at 0x109a0ddd8>"
      ]
     },
     "execution_count": 7,
     "metadata": {},
     "output_type": "execute_result"
    },
    {
     "data": {
      "image/png": "[encoded data removed]",
      "text/plain": [
       "<matplotlib.figure.Figure at 0x109a0d860>"
      ]
     },
     "metadata": {},
     "output_type": "display_data"
    }
   ],
   "source": [
    "def get_mins(x):\n",
    "    min, sec = divmod(x, 60)\n",
    "    return float('{}.{}'.format(min, sec))\n",
    "\n",
    "df_stats['totalTimeMin'] = df_stats['totalTime'].apply(get_mins)\n",
    "df_stats.plot(x='userid', y='totalTimeMin', kind='bar', legend=False)"
   ]
  },
  {
   "cell_type": "markdown",
   "metadata": {},
   "source": [
    "109 is definitely the larger interaction period. Let's have a look at the data to see exactly how much."
   ]
  },
  {
   "cell_type": "code",
   "execution_count": 8,
   "metadata": {},
   "outputs": [
    {
     "data": {
      "text/html": [
       "<div>\n",
       "<style scoped>\n",
       "    .dataframe tbody tr th:only-of-type {\n",
       "        vertical-align: middle;\n",
       "    }\n",
       "\n",
       "    .dataframe tbody tr th {\n",
       "        vertical-align: top;\n",
       "    }\n",
       "\n",
       "    .dataframe thead th {\n",
       "        text-align: right;\n",
       "    }\n",
       "</style>\n",
       "<table border=\"1\" class=\"dataframe\">\n",
       "  <thead>\n",
       "    <tr style=\"text-align: right;\">\n",
       "      <th></th>\n",
       "      <th>userid</th>\n",
       "      <th>totalEvents</th>\n",
       "      <th>totalTime</th>\n",
       "      <th>totalTimeBetweenClicks</th>\n",
       "      <th>meanTimeBetweenClicks</th>\n",
       "      <th>stdTimeBetweenClicks</th>\n",
       "      <th>meanClicksPerSecond</th>\n",
       "      <th>stdClicksPerSecond</th>\n",
       "      <th>meanClicksPerMinute</th>\n",
       "      <th>stdClicksPerMinute</th>\n",
       "      <th>mostFrequentItemAction</th>\n",
       "      <th>totalTimeMin</th>\n",
       "    </tr>\n",
       "  </thead>\n",
       "  <tbody>\n",
       "    <tr>\n",
       "      <th>0</th>\n",
       "      <td>109</td>\n",
       "      <td>79</td>\n",
       "      <td>257396</td>\n",
       "      <td>257396</td>\n",
       "      <td>3258.177215</td>\n",
       "      <td>28521.065588</td>\n",
       "      <td>1.000000</td>\n",
       "      <td>0.000000</td>\n",
       "      <td>2.548387</td>\n",
       "      <td>2.419900</td>\n",
       "      <td>0 next_button</td>\n",
       "      <td>4289.56</td>\n",
       "    </tr>\n",
       "    <tr>\n",
       "      <th>1</th>\n",
       "      <td>425</td>\n",
       "      <td>47</td>\n",
       "      <td>4734</td>\n",
       "      <td>4734</td>\n",
       "      <td>100.723404</td>\n",
       "      <td>375.524080</td>\n",
       "      <td>1.021739</td>\n",
       "      <td>0.147442</td>\n",
       "      <td>2.473684</td>\n",
       "      <td>1.836918</td>\n",
       "      <td>1593921 window</td>\n",
       "      <td>78.54</td>\n",
       "    </tr>\n",
       "    <tr>\n",
       "      <th>2</th>\n",
       "      <td>407</td>\n",
       "      <td>3</td>\n",
       "      <td>36336</td>\n",
       "      <td>36336</td>\n",
       "      <td>12112.000000</td>\n",
       "      <td>20922.332972</td>\n",
       "      <td>1.000000</td>\n",
       "      <td>0.000000</td>\n",
       "      <td>1.000000</td>\n",
       "      <td>0.000000</td>\n",
       "      <td>0 play_pause_button</td>\n",
       "      <td>605.36</td>\n",
       "    </tr>\n",
       "    <tr>\n",
       "      <th>3</th>\n",
       "      <td>205</td>\n",
       "      <td>64</td>\n",
       "      <td>2819</td>\n",
       "      <td>2819</td>\n",
       "      <td>44.046875</td>\n",
       "      <td>94.748528</td>\n",
       "      <td>1.142857</td>\n",
       "      <td>0.483494</td>\n",
       "      <td>2.909091</td>\n",
       "      <td>2.810001</td>\n",
       "      <td>0 next_button</td>\n",
       "      <td>46.59</td>\n",
       "    </tr>\n",
       "    <tr>\n",
       "      <th>4</th>\n",
       "      <td>121</td>\n",
       "      <td>64</td>\n",
       "      <td>2592</td>\n",
       "      <td>2592</td>\n",
       "      <td>40.500000</td>\n",
       "      <td>124.163487</td>\n",
       "      <td>1.084746</td>\n",
       "      <td>0.384534</td>\n",
       "      <td>3.368421</td>\n",
       "      <td>3.832761</td>\n",
       "      <td>0 next_button</td>\n",
       "      <td>43.12</td>\n",
       "    </tr>\n",
       "    <tr>\n",
       "      <th>5</th>\n",
       "      <td>112</td>\n",
       "      <td>83</td>\n",
       "      <td>3722</td>\n",
       "      <td>3722</td>\n",
       "      <td>44.843373</td>\n",
       "      <td>93.581513</td>\n",
       "      <td>1.000000</td>\n",
       "      <td>0.000000</td>\n",
       "      <td>3.074074</td>\n",
       "      <td>2.758566</td>\n",
       "      <td>0 next_button</td>\n",
       "      <td>62.20</td>\n",
       "    </tr>\n",
       "    <tr>\n",
       "      <th>6</th>\n",
       "      <td>220</td>\n",
       "      <td>176</td>\n",
       "      <td>2005</td>\n",
       "      <td>2005</td>\n",
       "      <td>11.392045</td>\n",
       "      <td>56.014893</td>\n",
       "      <td>1.213793</td>\n",
       "      <td>0.699069</td>\n",
       "      <td>8.800000</td>\n",
       "      <td>7.804182</td>\n",
       "      <td>0 back_button</td>\n",
       "      <td>33.25</td>\n",
       "    </tr>\n",
       "    <tr>\n",
       "      <th>7</th>\n",
       "      <td>217</td>\n",
       "      <td>74</td>\n",
       "      <td>2207</td>\n",
       "      <td>2207</td>\n",
       "      <td>29.824324</td>\n",
       "      <td>54.856065</td>\n",
       "      <td>1.138462</td>\n",
       "      <td>0.428549</td>\n",
       "      <td>3.083333</td>\n",
       "      <td>3.386889</td>\n",
       "      <td>0 next_button</td>\n",
       "      <td>36.47</td>\n",
       "    </tr>\n",
       "    <tr>\n",
       "      <th>8</th>\n",
       "      <td>113</td>\n",
       "      <td>41</td>\n",
       "      <td>1167</td>\n",
       "      <td>1167</td>\n",
       "      <td>28.463415</td>\n",
       "      <td>67.725216</td>\n",
       "      <td>1.025000</td>\n",
       "      <td>0.158114</td>\n",
       "      <td>4.100000</td>\n",
       "      <td>3.871549</td>\n",
       "      <td>0 next_button</td>\n",
       "      <td>19.27</td>\n",
       "    </tr>\n",
       "    <tr>\n",
       "      <th>9</th>\n",
       "      <td>401</td>\n",
       "      <td>1</td>\n",
       "      <td>0</td>\n",
       "      <td>0</td>\n",
       "      <td>0.000000</td>\n",
       "      <td>0.000000</td>\n",
       "      <td>1.000000</td>\n",
       "      <td>0.000000</td>\n",
       "      <td>1.000000</td>\n",
       "      <td>0.000000</td>\n",
       "      <td>2147483647 v1</td>\n",
       "      <td>0.00</td>\n",
       "    </tr>\n",
       "  </tbody>\n",
       "</table>\n",
       "</div>"
      ],
      "text/plain": [
       "   userid  totalEvents  totalTime  totalTimeBetweenClicks  \\\n",
       "0     109           79     257396                  257396   \n",
       "1     425           47       4734                    4734   \n",
       "2     407            3      36336                   36336   \n",
       "3     205           64       2819                    2819   \n",
       "4     121           64       2592                    2592   \n",
       "5     112           83       3722                    3722   \n",
       "6     220          176       2005                    2005   \n",
       "7     217           74       2207                    2207   \n",
       "8     113           41       1167                    1167   \n",
       "9     401            1          0                       0   \n",
       "\n",
       "   meanTimeBetweenClicks  stdTimeBetweenClicks  meanClicksPerSecond  \\\n",
       "0            3258.177215          28521.065588             1.000000   \n",
       "1             100.723404            375.524080             1.021739   \n",
       "2           12112.000000          20922.332972             1.000000   \n",
       "3              44.046875             94.748528             1.142857   \n",
       "4              40.500000            124.163487             1.084746   \n",
       "5              44.843373             93.581513             1.000000   \n",
       "6              11.392045             56.014893             1.213793   \n",
       "7              29.824324             54.856065             1.138462   \n",
       "8              28.463415             67.725216             1.025000   \n",
       "9               0.000000              0.000000             1.000000   \n",
       "\n",
       "   stdClicksPerSecond  meanClicksPerMinute  stdClicksPerMinute  \\\n",
       "0            0.000000             2.548387            2.419900   \n",
       "1            0.147442             2.473684            1.836918   \n",
       "2            0.000000             1.000000            0.000000   \n",
       "3            0.483494             2.909091            2.810001   \n",
       "4            0.384534             3.368421            3.832761   \n",
       "5            0.000000             3.074074            2.758566   \n",
       "6            0.699069             8.800000            7.804182   \n",
       "7            0.428549             3.083333            3.386889   \n",
       "8            0.158114             4.100000            3.871549   \n",
       "9            0.000000             1.000000            0.000000   \n",
       "\n",
       "  mostFrequentItemAction  totalTimeMin  \n",
       "0          0 next_button       4289.56  \n",
       "1         1593921 window         78.54  \n",
       "2    0 play_pause_button        605.36  \n",
       "3          0 next_button         46.59  \n",
       "4          0 next_button         43.12  \n",
       "5          0 next_button         62.20  \n",
       "6          0 back_button         33.25  \n",
       "7          0 next_button         36.47  \n",
       "8          0 next_button         19.27  \n",
       "9          2147483647 v1          0.00  "
      ]
     },
     "execution_count": 8,
     "metadata": {},
     "output_type": "execute_result"
    }
   ],
   "source": [
    "df_stats"
   ]
  },
  {
   "cell_type": "markdown",
   "metadata": {},
   "source": [
    "So we've identified the users that have had technical difficulties and the majority had video-related issues. Now, how do we model that? Furthermore, how do we also include the statistical information into the model."
   ]
  },
  {
   "cell_type": "code",
   "execution_count": 9,
   "metadata": {},
   "outputs": [
    {
     "data": {
      "text/plain": [
       "Text(0,0.5,'number of events at the grouping')"
      ]
     },
     "execution_count": 9,
     "metadata": {},
     "output_type": "execute_result"
    },
    {
     "data": {
      "image/png": "[encoded data removed]",
      "text/plain": [
       "<matplotlib.figure.Figure at 0x10f3a1588>"
      ]
     },
     "metadata": {},
     "output_type": "display_data"
    }
   ],
   "source": [
    "ax = df_raw[df_raw['participant_id'] == 112]['timestamp']\\\n",
    ".groupby([df_raw['timestamp'].dt.hour, df_raw['timestamp'].dt.minute])\\\n",
    ".count().plot()\n",
    "ax.set_xlabel('minute + hour grouping (hour, min)')\n",
    "ax.set_ylabel('number of events at the grouping')"
   ]
  },
  {
   "cell_type": "markdown",
   "metadata": {},
   "source": [
    "***\n",
    "### Exploring the sequences of actions performed by each of the participants\n",
    "There are a few interesting questions that you can ask here.\n",
    "\n",
    "Do we need to consider the next and back button? Does it really tell us anything in this context? What is noticable from the feedback given by the participants is that once they started having issues with the videos they just switched to the other view. \n",
    "\n",
    "Now, what if we just consider everything up until the first cardview toggle event? How many steps is this? What does the sequence look like in the build up?\n",
    "\n",
    "The rationale behind this is two-fold; firstly, it's based on the feedback provided by the participants, and secondly, it reduces the sequence of item and action pairs -- currently the sequences are very long, and after they've switched views most participants just carry on with the task as normal."
   ]
  },
  {
   "cell_type": "code",
   "execution_count": 10,
   "metadata": {},
   "outputs": [
    {
     "data": {
      "text/html": [
       "<div>\n",
       "<style scoped>\n",
       "    .dataframe tbody tr th:only-of-type {\n",
       "        vertical-align: middle;\n",
       "    }\n",
       "\n",
       "    .dataframe tbody tr th {\n",
       "        vertical-align: top;\n",
       "    }\n",
       "\n",
       "    .dataframe thead th {\n",
       "        text-align: right;\n",
       "    }\n",
       "</style>\n",
       "<table border=\"1\" class=\"dataframe\">\n",
       "  <thead>\n",
       "    <tr style=\"text-align: right;\">\n",
       "      <th></th>\n",
       "      <th>id</th>\n",
       "      <th>participant_id</th>\n",
       "      <th>timestamp</th>\n",
       "      <th>pagetime</th>\n",
       "      <th>item</th>\n",
       "      <th>action</th>\n",
       "      <th>message</th>\n",
       "      <th>combined</th>\n",
       "      <th>combined_num</th>\n",
       "    </tr>\n",
       "  </thead>\n",
       "  <tbody>\n",
       "    <tr>\n",
       "      <th>0</th>\n",
       "      <td>2251</td>\n",
       "      <td>109</td>\n",
       "      <td>2017-08-20 19:21:27</td>\n",
       "      <td>0</td>\n",
       "      <td>play_pause_button</td>\n",
       "      <td>play</td>\n",
       "      <td>NaN</td>\n",
       "      <td>play_pause_button play</td>\n",
       "      <td>9</td>\n",
       "    </tr>\n",
       "    <tr>\n",
       "      <th>1</th>\n",
       "      <td>2258</td>\n",
       "      <td>109</td>\n",
       "      <td>2017-08-20 19:26:34</td>\n",
       "      <td>0</td>\n",
       "      <td>full_screen_button</td>\n",
       "      <td>fullscreen</td>\n",
       "      <td>NaN</td>\n",
       "      <td>full_screen_button fullscreen</td>\n",
       "      <td>27</td>\n",
       "    </tr>\n",
       "    <tr>\n",
       "      <th>2</th>\n",
       "      <td>3059</td>\n",
       "      <td>425</td>\n",
       "      <td>2017-08-22 17:31:32</td>\n",
       "      <td>24156</td>\n",
       "      <td>window</td>\n",
       "      <td>blur</td>\n",
       "      <td>NaN</td>\n",
       "      <td>window blur</td>\n",
       "      <td>7</td>\n",
       "    </tr>\n",
       "    <tr>\n",
       "      <th>3</th>\n",
       "      <td>3060</td>\n",
       "      <td>425</td>\n",
       "      <td>2017-08-22 17:31:36</td>\n",
       "      <td>27647</td>\n",
       "      <td>window</td>\n",
       "      <td>focus</td>\n",
       "      <td>NaN</td>\n",
       "      <td>window focus</td>\n",
       "      <td>5</td>\n",
       "    </tr>\n",
       "    <tr>\n",
       "      <th>4</th>\n",
       "      <td>3061</td>\n",
       "      <td>425</td>\n",
       "      <td>2017-08-22 17:31:37</td>\n",
       "      <td>28958</td>\n",
       "      <td>v1</td>\n",
       "      <td>play</td>\n",
       "      <td>0 fullscreen=false</td>\n",
       "      <td>v1 play</td>\n",
       "      <td>8</td>\n",
       "    </tr>\n",
       "  </tbody>\n",
       "</table>\n",
       "</div>"
      ],
      "text/plain": [
       "     id  participant_id           timestamp  pagetime                item  \\\n",
       "0  2251             109 2017-08-20 19:21:27         0   play_pause_button   \n",
       "1  2258             109 2017-08-20 19:26:34         0  full_screen_button   \n",
       "2  3059             425 2017-08-22 17:31:32     24156              window   \n",
       "3  3060             425 2017-08-22 17:31:36     27647              window   \n",
       "4  3061             425 2017-08-22 17:31:37     28958                  v1   \n",
       "\n",
       "       action             message                       combined  combined_num  \n",
       "0        play                 NaN         play_pause_button play             9  \n",
       "1  fullscreen                 NaN  full_screen_button fullscreen            27  \n",
       "2        blur                 NaN                    window blur             7  \n",
       "3       focus                 NaN                   window focus             5  \n",
       "4        play  0 fullscreen=false                        v1 play             8  "
      ]
     },
     "execution_count": 10,
     "metadata": {},
     "output_type": "execute_result"
    }
   ],
   "source": [
    "# Create the combined column and convert it to an integer value using the Label Encoder\n",
    "from sklearn import preprocessing\n",
    "df_raw['combined'] = df_raw[['item', 'action']].apply(lambda x: ' '.join(x), axis=1)\n",
    "le = preprocessing.LabelEncoder()\n",
    "combined_encoded = le.fit_transform(df_raw['combined'].unique())\n",
    "combined_dict = dict(zip(le.classes_, combined_encoded))\n",
    "df_raw['combined_num'] = df_raw['combined'].map(combined_dict)\n",
    "df_raw.head()"
   ]
  },
  {
   "cell_type": "markdown",
   "metadata": {},
   "source": [
    "***\n",
    "### Statistical Exploration of the Data\n",
    "This subset of the notebook is dedicated to exploring the statistical differences between the two sets of data (those with technical difficulties and those without). \n",
    "\n",
    "It'll apply techniques such as ANOVA, Parwise Comparisons, and maybe PCA.\n",
    "- ANOVA: Used to determine whether there are any statistically significant differences between the means of the data.\n",
    "- Pairwise comparison: *look up the meaning*"
   ]
  },
  {
   "cell_type": "code",
   "execution_count": 11,
   "metadata": {},
   "outputs": [],
   "source": [
    "import scipy.stats as stats\n",
    "df_live_stats = pd.read_csv('./data/live-interactions_statistics_results.csv')\n",
    "df_live_stats['totalTimeMin'] = df_live_stats['totalTime'].apply(get_mins)\n",
    "df_live_stats.drop(['sessionNo', 'mostFrequentItemAction'], inplace=True, axis=1) # just drop this for this bit.\n",
    "df_stats.drop(['mostFrequentItemAction'], inplace=True, axis=1)"
   ]
  },
  {
   "cell_type": "code",
   "execution_count": 12,
   "metadata": {},
   "outputs": [
    {
     "name": "stdout",
     "output_type": "stream",
     "text": [
      "totalEvents, (1.2439708345352691, 0.2668640254380009)\n",
      "totalTime, (16.901387582354698, 7.109506845435359e-05)\n",
      "totalTimeBetweenClicks, (16.901387582354698, 7.109506845435359e-05)\n",
      "meanTimeBetweenClicks, (19.54986283806715, 2.116422752939854e-05)\n",
      "stdTimeBetweenClicks, (27.738541948074598, 5.933438882315955e-07)\n",
      "meanClicksPerSecond, (0.7300869683694365, 0.3945027731524635)\n",
      "stdClicksPerSecond, (0.3022861981455943, 0.583441638199127)\n",
      "meanClicksPerMinute, (0.0016800339990792111, 0.9673712120619895)\n",
      "stdClicksPerMinute, (0.0028878743985271604, 0.9572296353561962)\n",
      "totalTimeMin, (16.89481672223679, 7.131184973601627e-05)\n"
     ]
    }
   ],
   "source": [
    "for col in df_stats.columns:\n",
    "    if (col == 'userid') or (col == 'mostFrequentItemAction') or (col == 'label'):\n",
    "        continue\n",
    "    else:\n",
    "        s, p = stats.f_oneway(df_live_stats[col], df_stats[col])\n",
    "        print('{}, ({}, {})'.format(col, s, p))"
   ]
  },
  {
   "cell_type": "code",
   "execution_count": 30,
   "metadata": {},
   "outputs": [],
   "source": [
    "from sklearn.decomposition import PCA\n",
    "from sklearn.preprocessing import StandardScaler\n",
    "\n",
    "# Add labels\n",
    "df_stats['label'] = 0\n",
    "df_live_stats['label'] = 1\n",
    "\n",
    "features = pd.concat([df_stats, df_live_stats], ignore_index=True)\n",
    "y = features['label']\n",
    "X = features.loc[:, 'totalEvents':'totalTimeMin']\n",
    "\n",
    "X_norm = pd.DataFrame(StandardScaler().fit_transform(X), columns=X.columns) # standardise\n",
    "\n",
    "pca = PCA(n_components=2)\n",
    "transformed = pd.DataFrame(pca.fit_transform(X_norm)) # apply PCA"
   ]
  },
  {
   "cell_type": "code",
   "execution_count": 32,
   "metadata": {},
   "outputs": [
    {
     "data": {
      "image/png": "[encoded data removed]",
      "text/plain": [
       "<matplotlib.figure.Figure at 0x1a1b41dd30>"
      ]
     },
     "metadata": {},
     "output_type": "display_data"
    }
   ],
   "source": [
    "# Plot the PCA results\n",
    "plt.scatter(transformed[y==1][0], transformed[y==1][1], label='Typical', c='c')\n",
    "plt.scatter(transformed[y==0][0], transformed[y==0][1], label='Atypical', c='red')\n",
    "plt.legend()\n",
    "plt.tight_layout()\n",
    "plt.savefig('pca_plot.png', dpi=300)"
   ]
  },
  {
   "cell_type": "code",
   "execution_count": 15,
   "metadata": {},
   "outputs": [
    {
     "data": {
      "text/plain": [
       "<matplotlib.collections.PathCollection at 0x1a1a796cf8>"
      ]
     },
     "execution_count": 15,
     "metadata": {},
     "output_type": "execute_result"
    },
    {
     "data": {
      "image/png": "[encoded data removed]",
      "text/plain": [
       "<matplotlib.figure.Figure at 0x1a1a67cb00>"
      ]
     },
     "metadata": {},
     "output_type": "display_data"
    }
   ],
   "source": [
    "f, axarr = plt.subplots(2)\n",
    "f.suptitle('Comparison of the data when PCA has been applied (red = tech diff & blue = typical)')\n",
    "axarr[0].scatter(transformed[y==0][0], transformed[y==0][1], c='red')\n",
    "axarr[1].scatter(transformed[y==1][0], transformed[y==1][1], c='c')"
   ]
  },
  {
   "cell_type": "markdown",
   "metadata": {},
   "source": [
    "But how does the SMOTE over-sampling change this I wonder?"
   ]
  },
  {
   "cell_type": "code",
   "execution_count": 16,
   "metadata": {},
   "outputs": [
    {
     "data": {
      "text/plain": [
       "<matplotlib.collections.PathCollection at 0x1a1ad6f080>"
      ]
     },
     "execution_count": 16,
     "metadata": {},
     "output_type": "execute_result"
    },
    {
     "data": {
      "image/png": "[encoded data removed]",
      "text/plain": [
       "<matplotlib.figure.Figure at 0x1a1a69b128>"
      ]
     },
     "metadata": {},
     "output_type": "display_data"
    }
   ],
   "source": [
    "from imblearn.over_sampling import SMOTE\n",
    "X_resampled, y_resampled = SMOTE(kind='svm').fit_sample(X, y)\n",
    "X_resampled = pca.fit_transform(X_resampled)\n",
    "f1, axarr2 = plt.subplots(2)\n",
    "f1.suptitle('test')\n",
    "axarr2[0].scatter(X_resampled[y_resampled==0][0], X_resampled[y_resampled==0][0], c='red')\n",
    "axarr2[1].scatter(X_resampled[y_resampled==1][1], X_resampled[y_resampled==1][1], c='blue')"
   ]
  },
  {
   "cell_type": "markdown",
   "metadata": {},
   "source": [
    "Post task clear up. Let's remove the label feature from the live stats."
   ]
  },
  {
   "cell_type": "code",
   "execution_count": 17,
   "metadata": {},
   "outputs": [],
   "source": [
    "df_live_stats.drop(['label'], axis=1, inplace=True)\n",
    "df_stats.drop(['label'], axis=1, inplace=True)"
   ]
  },
  {
   "cell_type": "markdown",
   "metadata": {},
   "source": [
    "***\n",
    "### Comparison of Technical Difficulties vs Typical Users\n",
    "The motivation here is to explore the differences between the two sets of users and to hopefully answer questions such as; do they look similar? Where do they differ? If they differ, then how and why? etc.\n",
    "\n",
    "The first step is to remove the linear users from the live recorded data -- so we are only comparing those interactions that were recorded on CAKE. This removal has been done using an SQL query outside of the notebook (essentially just selected those with the condition = {1, 2}) but we still need to drop the condition from this new CSV file."
   ]
  },
  {
   "cell_type": "code",
   "execution_count": 18,
   "metadata": {},
   "outputs": [
    {
     "data": {
      "text/html": [
       "<div>\n",
       "<style scoped>\n",
       "    .dataframe tbody tr th:only-of-type {\n",
       "        vertical-align: middle;\n",
       "    }\n",
       "\n",
       "    .dataframe tbody tr th {\n",
       "        vertical-align: top;\n",
       "    }\n",
       "\n",
       "    .dataframe thead th {\n",
       "        text-align: right;\n",
       "    }\n",
       "</style>\n",
       "<table border=\"1\" class=\"dataframe\">\n",
       "  <thead>\n",
       "    <tr style=\"text-align: right;\">\n",
       "      <th></th>\n",
       "      <th>participant_id</th>\n",
       "      <th>timestamp</th>\n",
       "      <th>pagetime</th>\n",
       "      <th>item</th>\n",
       "      <th>action</th>\n",
       "      <th>message</th>\n",
       "    </tr>\n",
       "  </thead>\n",
       "  <tbody>\n",
       "    <tr>\n",
       "      <th>0</th>\n",
       "      <td>206</td>\n",
       "      <td>2017-08-17 13:21:26</td>\n",
       "      <td>0</td>\n",
       "      <td>play_pause_button</td>\n",
       "      <td>play</td>\n",
       "      <td>NaN</td>\n",
       "    </tr>\n",
       "    <tr>\n",
       "      <th>1</th>\n",
       "      <td>206</td>\n",
       "      <td>2017-08-17 13:22:00</td>\n",
       "      <td>0</td>\n",
       "      <td>select_recipe</td>\n",
       "      <td>mullet</td>\n",
       "      <td>NaN</td>\n",
       "    </tr>\n",
       "    <tr>\n",
       "      <th>2</th>\n",
       "      <td>223</td>\n",
       "      <td>2017-08-17 14:12:35</td>\n",
       "      <td>0</td>\n",
       "      <td>play_pause_button</td>\n",
       "      <td>play</td>\n",
       "      <td>NaN</td>\n",
       "    </tr>\n",
       "    <tr>\n",
       "      <th>3</th>\n",
       "      <td>223</td>\n",
       "      <td>2017-08-17 14:13:14</td>\n",
       "      <td>0</td>\n",
       "      <td>select_recipe</td>\n",
       "      <td>mullet</td>\n",
       "      <td>NaN</td>\n",
       "    </tr>\n",
       "    <tr>\n",
       "      <th>4</th>\n",
       "      <td>223</td>\n",
       "      <td>2017-08-17 14:13:27</td>\n",
       "      <td>0</td>\n",
       "      <td>experience_level</td>\n",
       "      <td>not_really</td>\n",
       "      <td>NaN</td>\n",
       "    </tr>\n",
       "  </tbody>\n",
       "</table>\n",
       "</div>"
      ],
      "text/plain": [
       "   participant_id            timestamp  pagetime               item  \\\n",
       "0             206  2017-08-17 13:21:26         0  play_pause_button   \n",
       "1             206  2017-08-17 13:22:00         0      select_recipe   \n",
       "2             223  2017-08-17 14:12:35         0  play_pause_button   \n",
       "3             223  2017-08-17 14:13:14         0      select_recipe   \n",
       "4             223  2017-08-17 14:13:27         0   experience_level   \n",
       "\n",
       "       action  message  \n",
       "0        play      NaN  \n",
       "1      mullet      NaN  \n",
       "2        play      NaN  \n",
       "3      mullet      NaN  \n",
       "4  not_really      NaN  "
      ]
     },
     "execution_count": 18,
     "metadata": {},
     "output_type": "execute_result"
    }
   ],
   "source": [
    "cake_data = pd.read_csv('./data/cake_alone_interactions.csv')\n",
    "cake_data.drop(['id', 'condition'], axis=1, inplace=True)\n",
    "cake_data.head()"
   ]
  },
  {
   "cell_type": "code",
   "execution_count": 19,
   "metadata": {},
   "outputs": [
    {
     "data": {
      "text/html": [
       "<div>\n",
       "<style scoped>\n",
       "    .dataframe tbody tr th:only-of-type {\n",
       "        vertical-align: middle;\n",
       "    }\n",
       "\n",
       "    .dataframe tbody tr th {\n",
       "        vertical-align: top;\n",
       "    }\n",
       "\n",
       "    .dataframe thead th {\n",
       "        text-align: right;\n",
       "    }\n",
       "</style>\n",
       "<table border=\"1\" class=\"dataframe\">\n",
       "  <thead>\n",
       "    <tr style=\"text-align: right;\">\n",
       "      <th></th>\n",
       "      <th>userid</th>\n",
       "      <th>totalEvents</th>\n",
       "      <th>totalTime</th>\n",
       "      <th>totalTimeBetweenClicks</th>\n",
       "      <th>meanTimeBetweenClicks</th>\n",
       "      <th>stdTimeBetweenClicks</th>\n",
       "      <th>meanClicksPerSecond</th>\n",
       "      <th>stdClicksPerSecond</th>\n",
       "      <th>meanClicksPerMinute</th>\n",
       "      <th>stdClicksPerMinute</th>\n",
       "      <th>totalTimeMin</th>\n",
       "    </tr>\n",
       "  </thead>\n",
       "  <tbody>\n",
       "    <tr>\n",
       "      <th>3</th>\n",
       "      <td>206</td>\n",
       "      <td>2</td>\n",
       "      <td>34</td>\n",
       "      <td>34</td>\n",
       "      <td>17.000000</td>\n",
       "      <td>24.041631</td>\n",
       "      <td>1.000000</td>\n",
       "      <td>0.000000</td>\n",
       "      <td>1.000000</td>\n",
       "      <td>0.000000</td>\n",
       "      <td>0.34</td>\n",
       "    </tr>\n",
       "    <tr>\n",
       "      <th>4</th>\n",
       "      <td>206</td>\n",
       "      <td>77</td>\n",
       "      <td>287</td>\n",
       "      <td>287</td>\n",
       "      <td>3.727273</td>\n",
       "      <td>6.229464</td>\n",
       "      <td>1.509804</td>\n",
       "      <td>0.880285</td>\n",
       "      <td>12.833333</td>\n",
       "      <td>15.223885</td>\n",
       "      <td>4.47</td>\n",
       "    </tr>\n",
       "    <tr>\n",
       "      <th>5</th>\n",
       "      <td>206</td>\n",
       "      <td>112</td>\n",
       "      <td>2776</td>\n",
       "      <td>2776</td>\n",
       "      <td>24.785714</td>\n",
       "      <td>36.817159</td>\n",
       "      <td>1.000000</td>\n",
       "      <td>0.000000</td>\n",
       "      <td>3.111111</td>\n",
       "      <td>2.538591</td>\n",
       "      <td>46.16</td>\n",
       "    </tr>\n",
       "    <tr>\n",
       "      <th>6</th>\n",
       "      <td>223</td>\n",
       "      <td>7</td>\n",
       "      <td>175</td>\n",
       "      <td>175</td>\n",
       "      <td>25.000000</td>\n",
       "      <td>30.697448</td>\n",
       "      <td>1.000000</td>\n",
       "      <td>0.000000</td>\n",
       "      <td>1.750000</td>\n",
       "      <td>0.957427</td>\n",
       "      <td>2.55</td>\n",
       "    </tr>\n",
       "    <tr>\n",
       "      <th>7</th>\n",
       "      <td>223</td>\n",
       "      <td>45</td>\n",
       "      <td>1782</td>\n",
       "      <td>1782</td>\n",
       "      <td>39.600000</td>\n",
       "      <td>37.250015</td>\n",
       "      <td>1.000000</td>\n",
       "      <td>0.000000</td>\n",
       "      <td>1.800000</td>\n",
       "      <td>1.080123</td>\n",
       "      <td>29.42</td>\n",
       "    </tr>\n",
       "  </tbody>\n",
       "</table>\n",
       "</div>"
      ],
      "text/plain": [
       "   userid  totalEvents  totalTime  totalTimeBetweenClicks  \\\n",
       "3     206            2         34                      34   \n",
       "4     206           77        287                     287   \n",
       "5     206          112       2776                    2776   \n",
       "6     223            7        175                     175   \n",
       "7     223           45       1782                    1782   \n",
       "\n",
       "   meanTimeBetweenClicks  stdTimeBetweenClicks  meanClicksPerSecond  \\\n",
       "3              17.000000             24.041631             1.000000   \n",
       "4               3.727273              6.229464             1.509804   \n",
       "5              24.785714             36.817159             1.000000   \n",
       "6              25.000000             30.697448             1.000000   \n",
       "7              39.600000             37.250015             1.000000   \n",
       "\n",
       "   stdClicksPerSecond  meanClicksPerMinute  stdClicksPerMinute  totalTimeMin  \n",
       "3            0.000000             1.000000            0.000000          0.34  \n",
       "4            0.880285            12.833333           15.223885          4.47  \n",
       "5            0.000000             3.111111            2.538591         46.16  \n",
       "6            0.000000             1.750000            0.957427          2.55  \n",
       "7            0.000000             1.800000            1.080123         29.42  "
      ]
     },
     "execution_count": 19,
     "metadata": {},
     "output_type": "execute_result"
    }
   ],
   "source": [
    "# Select the statistics for the cake data users, ignoring the linear participants.\n",
    "cake_data_stats = df_live_stats[df_live_stats['userid'].isin(cake_data['participant_id'].unique())]\n",
    "cake_data_stats.head()"
   ]
  },
  {
   "cell_type": "code",
   "execution_count": 20,
   "metadata": {},
   "outputs": [],
   "source": [
    "# Select the technical difficulties users that are cake users, ignoring the linear participants. It's worth noting that only two of the technical\n",
    "# difficulty users are NOT cake participants.\n",
    "cake_tech_diff_users = [109, 407, 205, 121, 112, 220, 217, 113]\n",
    "cake_td_raw = df_raw[df_raw['participant_id'].isin(cake_tech_diff_users)]\n",
    "cake_td_stats = df_stats[df_stats['userid'].isin(cake_tech_diff_users)]\n",
    "cake_td_raw.to_csv('./data/cake_td_raw_data.csv', index=False)\n",
    "cake_td_stats.to_csv('./data/cake_td_stats_data.csv', index=False)\n",
    "#cake_td_raw.dtypes"
   ]
  },
  {
   "cell_type": "code",
   "execution_count": 21,
   "metadata": {},
   "outputs": [
    {
     "data": {
      "text/plain": [
       "<matplotlib.lines.Line2D at 0x1a1a7d46a0>"
      ]
     },
     "execution_count": 21,
     "metadata": {},
     "output_type": "execute_result"
    },
    {
     "data": {
      "image/png": "[encoded data removed]",
      "text/plain": [
       "<matplotlib.figure.Figure at 0x1a1ada0898>"
      ]
     },
     "metadata": {},
     "output_type": "display_data"
    }
   ],
   "source": [
    "# Plot the histogram for the length of the session.\n",
    "plt.figure()\n",
    "plt.hist(cake_data_stats['totalTimeMin'], bins=16, edgecolor='k', alpha=0.65, color='c')\n",
    "plt.xlabel('Session Length (in minutes)')\n",
    "plt.ylabel('# of participants')\n",
    "plt.axvline(cake_data_stats['totalTimeMin'].mean(), color='r', linestyle='dashed', linewidth=1)"
   ]
  },
  {
   "cell_type": "code",
   "execution_count": 22,
   "metadata": {},
   "outputs": [
    {
     "data": {
      "text/plain": [
       "<matplotlib.lines.Line2D at 0x1a1aefc5f8>"
      ]
     },
     "execution_count": 22,
     "metadata": {},
     "output_type": "execute_result"
    },
    {
     "data": {
      "image/png": "[encoded data removed]",
      "text/plain": [
       "<matplotlib.figure.Figure at 0x1a1af15400>"
      ]
     },
     "metadata": {},
     "output_type": "display_data"
    }
   ],
   "source": [
    "# Plot the histogram for the length of the session for technical difficulties users\n",
    "plt.figure()\n",
    "plt.hist(cake_td_stats['totalTimeMin'], bins=16, edgecolor='k', alpha=0.65, color='c')\n",
    "plt.xlabel('Session Length (in minutes)')\n",
    "plt.ylabel('# of participants')\n",
    "plt.axvline(cake_td_stats['totalTimeMin'].mean(), color='r', linestyle='dashed', linewidth=1)"
   ]
  },
  {
   "cell_type": "markdown",
   "metadata": {},
   "source": [
    "The above plot shows the histogram for the total time in minutes each of the participants (with technical difficulties) lastest. As is clear, one of the participants is skewing the data (109) -- let's try this plot without that user being included."
   ]
  },
  {
   "cell_type": "code",
   "execution_count": 23,
   "metadata": {},
   "outputs": [
    {
     "data": {
      "text/plain": [
       "<matplotlib.lines.Line2D at 0x1a1a6235c0>"
      ]
     },
     "execution_count": 23,
     "metadata": {},
     "output_type": "execute_result"
    },
    {
     "data": {
      "image/png": "[encoded data removed]",
      "text/plain": [
       "<matplotlib.figure.Figure at 0x1a1a66dda0>"
      ]
     },
     "metadata": {},
     "output_type": "display_data"
    }
   ],
   "source": [
    "cake_td_stats = cake_td_stats.drop(cake_td_stats[cake_td_stats['userid'] == 109].index)\n",
    "plt.figure()\n",
    "plt.hist(cake_td_stats['totalTimeMin'], bins=16, edgecolor='k', alpha=0.65, color='c')\n",
    "plt.xlabel('Session Length (in minutes)')\n",
    "plt.ylabel('# of participants')\n",
    "plt.axvline(cake_td_stats['totalTimeMin'].mean(), color='r', linestyle='dashed', linewidth=1)"
   ]
  },
  {
   "cell_type": "code",
   "execution_count": 24,
   "metadata": {},
   "outputs": [
    {
     "data": {
      "text/plain": [
       "Text(0,0.5,'# of participants')"
      ]
     },
     "execution_count": 24,
     "metadata": {},
     "output_type": "execute_result"
    },
    {
     "data": {
      "image/png": "[encoded data removed]",
      "text/plain": [
       "<matplotlib.figure.Figure at 0x1a1af15a90>"
      ]
     },
     "metadata": {},
     "output_type": "display_data"
    }
   ],
   "source": [
    "plt.figure()\n",
    "plt.hist(cake_data_stats['totalTimeMin'], bins=16, alpha=0.5, label='Typical')\n",
    "plt.hist(cake_td_stats['totalTimeMin'], bins=16, alpha=0.5, label='Tech Diff')\n",
    "plt.legend()\n",
    "plt.xlabel('Session Length (in minutes)')\n",
    "plt.ylabel('# of participants')"
   ]
  },
  {
   "cell_type": "markdown",
   "metadata": {},
   "source": [
    "So, now the problem seems to be that that the participant with ~600 minute long session (?...) is skewing the data so getting a proper comparison is hard. What does the above look like if we exlucude this participant as well...\n",
    "\n",
    "It should be noted that this participant, 407, has only 3 events recorded!"
   ]
  },
  {
   "cell_type": "code",
   "execution_count": 25,
   "metadata": {},
   "outputs": [
    {
     "data": {
      "image/png": "[encoded data removed]",
      "text/plain": [
       "<matplotlib.figure.Figure at 0x1a1a623908>"
      ]
     },
     "metadata": {},
     "output_type": "display_data"
    }
   ],
   "source": [
    "cake_td_stats = cake_td_stats.drop(cake_td_stats[cake_td_stats['userid'] == 407].index)\n",
    "plt.figure()\n",
    "plt.hist(cake_data_stats['totalTimeMin'], bins='auto', alpha=0.5, label='Typical', edgecolor='k', color='c')\n",
    "plt.hist(cake_td_stats['totalTimeMin'], bins='auto', alpha=0.5, label='Atypical', edgecolor='k', color='r')\n",
    "plt.legend()\n",
    "plt.xlabel('Session Length (in minutes)')\n",
    "plt.ylabel('# of participants')\n",
    "plt.axvline(cake_td_stats['totalTimeMin'].mean(), color='r', linestyle='dashed', linewidth=1)\n",
    "plt.axvline(cake_data_stats['totalTimeMin'].mean(), color='c', linestyle='dashed', linewidth=1)\n",
    "plt.yticks([0, 3, 6, 9, 12, 15, 18, 21])\n",
    "plt.tight_layout()\n",
    "plt.savefig('session-length-hist.png', dpi=300)"
   ]
  },
  {
   "cell_type": "markdown",
   "metadata": {},
   "source": [
    "What does the above plot tell us? Well, from a session length perspective, and apart from the grouping of users on the left of the plot (those with much shorter sessions), that typical users that seem to take on average ~30 minutes while technical difficulties participants take ~40 minutes. The main point here is that from this perspective, they seem to be essentially the same."
   ]
  },
  {
   "cell_type": "code",
   "execution_count": 27,
   "metadata": {},
   "outputs": [],
   "source": [
    "# This code will produce a dictionary that has the signature: {id : [(5min increments, event count), ...]}. The idea for this is so we can \n",
    "# compare the number of events over time (see notebook for plot idea). This should probably be changed to a function.\n",
    "from collections import defaultdict\n",
    "def get_intensity_plot_data(dataframe, id_col_name, time_col_name, interval_period, time_period_str):\n",
    "    plot_data = defaultdict(list)\n",
    "    for uid in dataframe[id_col_name].unique():\n",
    "        internal_df = pd.DataFrame(dataframe[dataframe[id_col_name] == uid])\n",
    "        internal_df.set_index(time_col_name, inplace=True)\n",
    "        internal_df.index = pd.to_datetime(internal_df.index)\n",
    "        internal_df['count'] = 1\n",
    "        internal_period = interval_period\n",
    "        data = internal_df.groupby(pd.Grouper(freq=time_period_str)).aggregate(np.sum)\n",
    "        for val in data['count']:\n",
    "            plot_data[uid].append(tuple([internal_period, val]))\n",
    "            internal_period += interval_period\n",
    "    return plot_data"
   ]
  },
  {
   "cell_type": "code",
   "execution_count": 28,
   "metadata": {},
   "outputs": [
    {
     "data": {
      "image/png": "[encoded data removed]",
      "text/plain": [
       "<matplotlib.figure.Figure at 0x1a1c0e3e48>"
      ]
     },
     "metadata": {},
     "output_type": "display_data"
    }
   ],
   "source": [
    "p_data = get_intensity_plot_data(cake_td_raw, 'participant_id', 'timestamp', interval_period=5, time_period_str='5min')\n",
    "for k, v in p_data.items():\n",
    "    if (k == 109) or (k == 407): # Let's just skip over these for the time being, they skew the plots terribly. \n",
    "        continue\n",
    "    data = [(x, y) for x, y in v]\n",
    "    plt.plot(*zip(*data), label=k)\n",
    "    \n",
    "plt.xlabel('Time in minutes')\n",
    "_ = plt.ylabel('# of events')\n",
    "plt.tight_layout()\n",
    "plt.savefig('tech_diff_number_of_events_over_time.png', dpi=300)"
   ]
  },
  {
   "cell_type": "markdown",
   "metadata": {},
   "source": [
    "The plot above is what Josh's essentially shows, now what happens if we apply this to the non-technical difficulties users."
   ]
  },
  {
   "cell_type": "code",
   "execution_count": 29,
   "metadata": {},
   "outputs": [
    {
     "data": {
      "image/png": "[encoded data removed]",
      "text/plain": [
       "<matplotlib.figure.Figure at 0x1a1c17bcf8>"
      ]
     },
     "metadata": {},
     "output_type": "display_data"
    }
   ],
   "source": [
    "cake_data = cake_data.drop(cake_data[cake_data['participant_id'].isin(cake_tech_diff_users)].index) # remove TD people!\n",
    "\n",
    "# Read in the raw data with the session number attached\n",
    "cake_data_sess = pd.read_csv('./data/live-interactions_sessions.csv')\n",
    "\n",
    "# Drop the technical difficulties users\n",
    "cake_data_sess = cake_data_sess.drop(cake_data_sess[cake_data_sess['userId'].isin(cake_tech_diff_users)].index)\n",
    "\n",
    "# Drop the non-CAKE participants!\n",
    "cake_data_sess = cake_data_sess.drop(cake_data_sess[cake_data_sess['userId'].isin(cake_data['participant_id'].unique())].index)\n",
    "\n",
    "# Concat the user id and session number to create a unique id for each session\n",
    "cake_data_sess['comb_id_sess'] = cake_data_sess[['userId', 'sessionNo']].astype(str).apply(lambda x: ''.join(x), axis=1)\n",
    "\n",
    "# plot.\n",
    "non_td_data = get_intensity_plot_data(cake_data_sess, 'comb_id_sess', 'timestamp', interval_period=5, time_period_str='5min')\n",
    "for k, v in non_td_data.items():\n",
    "    data = [(x, y) for x, y in v]\n",
    "    plt.plot(*zip(*data), label=k)\n",
    "    \n",
    "#plt.legend()\n",
    "plt.xlabel('Time in minutes')\n",
    "_ = plt.ylabel('# of events')\n",
    "plt.xlim([0, 70])\n",
    "plt.ylim([0, 40])\n",
    "plt.tight_layout()\n",
    "plt.savefig('typical-number-of-events-over-time.png', dpi=300)"
   ]
  },
  {
   "cell_type": "markdown",
   "metadata": {},
   "source": [
    "So what do the two plots above tell us about the the data? Firstly, that the 'typical' users pattern of behaviour (with regards to the number of clicks at 5 minute intervals) is a bit of mess, however, there is definitely a sort of pattern to their behaviour with only a few participants ever going above the 25 events recorded in a 5 minute time window. This is a similar trend how with the technical difficulites users. \n",
    "\n",
    "I think what these two plots demonstrate is that the participants that experience technical difficulties are very difficult to tell apart from the rest of the 'typical' users of a system like CAKE -- even on this reduced and enclosed environment, with a small number of users. If this was scaled to the amount of data recorded in the origami experience then it's likely to be more of a mess (the key difference is being able to view things on a step-by-step basis).\n",
    "\n",
    "Let's compare the item/actions between the two sets of data."
   ]
  },
  {
   "cell_type": "code",
   "execution_count": 34,
   "metadata": {},
   "outputs": [
    {
     "name": "stdout",
     "output_type": "stream",
     "text": [
      "next_button           231\n",
      "back_button           172\n",
      "play_pause_button      43\n",
      "cardView               41\n",
      "full_screen_button     28\n",
      "experience_level       14\n",
      "select_recipe          14\n",
      "cook_reason            14\n",
      "cooking_for            14\n",
      "confirm_cook            8\n",
      "not_quite_button        5\n",
      "Name: item, dtype: int64\n"
     ]
    },
    {
     "data": {
      "text/plain": [
       "11"
      ]
     },
     "execution_count": 34,
     "metadata": {},
     "output_type": "execute_result"
    }
   ],
   "source": [
    "item_counts_td = cake_td_raw['item'].value_counts()\n",
    "print(item_counts_td)\n",
    "len(item_counts_td)"
   ]
  },
  {
   "cell_type": "code",
   "execution_count": 35,
   "metadata": {},
   "outputs": [
    {
     "name": "stdout",
     "output_type": "stream",
     "text": [
      "v4                    1093\n",
      "next_button            899\n",
      "video_end              460\n",
      "back_button            402\n",
      "v1                     391\n",
      "window                 345\n",
      "v2                     321\n",
      "play_pause_button      262\n",
      "v3                     213\n",
      "cardView               111\n",
      "experience_level       102\n",
      "cook_reason            100\n",
      "cooking_for             99\n",
      "select_recipe           92\n",
      "full_screen_button      92\n",
      "tab-r2                  85\n",
      "tab-r3                  67\n",
      "confirm_cook            59\n",
      "tab-r1                  47\n",
      "tab-finish              37\n",
      "not_quite_button        36\n",
      "tab-r4                   1\n",
      "Name: item, dtype: int64\n"
     ]
    },
    {
     "data": {
      "text/plain": [
       "22"
      ]
     },
     "execution_count": 35,
     "metadata": {},
     "output_type": "execute_result"
    }
   ],
   "source": [
    "cake_live_raw = pd.read_csv('./data/live-interactions.csv')\n",
    "\n",
    "item_counts_live_raw = cake_live_raw['item'].value_counts()\n",
    "print(item_counts_live_raw)\n",
    "len(item_counts_live_raw)"
   ]
  },
  {
   "cell_type": "markdown",
   "metadata": {},
   "source": [
    "The above shows a remarkable difference between the two sets of users; those with technical difficulties have a smaller range of button types in their experience while those without experience the full interactivity of CAKE. A point that is worth noting, particularly with the technical difficulties participants, the number of times play_pause and cardView are click is roughly the same.\n",
    "\n",
    "So this shows that as a result of experiencing technical difficulties, the participants have a *reduced* experience with CAKE."
   ]
  },
  {
   "cell_type": "code",
   "execution_count": 33,
   "metadata": {},
   "outputs": [],
   "source": [
    "\"\"\"Function to calculate the percentage change between the two sets of action counts\"\"\"\n",
    "def get_change(live, td):\n",
    "    if live == td:\n",
    "        return 0\n",
    "    try:\n",
    "        return (abs(live - td) / td) * 100.0\n",
    "    except ZeroDivisionError:\n",
    "        return 0\n",
    "\n",
    "change_result = {}\n",
    "for k1, v1 in item_counts_td.iteritems():\n",
    "    for k2, v2 in item_counts_live_raw.iteritems():\n",
    "        if k1 == k2:\n",
    "            change_result[k1] = get_change(v2, v1)         "
   ]
  },
  {
   "cell_type": "code",
   "execution_count": null,
   "metadata": {},
   "outputs": [],
   "source": []
  }
 ],
 "metadata": {
  "kernelspec": {
   "display_name": "Python 3",
   "language": "python",
   "name": "python3"
  },
  "language_info": {
   "codemirror_mode": {
    "name": "ipython",
    "version": 3
   },
   "file_extension": ".py",
   "mimetype": "text/x-python",
   "name": "python",
   "nbconvert_exporter": "python",
   "pygments_lexer": "ipython3",
   "version": "3.6.4"
  }
 },
 "nbformat": 4,
 "nbformat_minor": 2
}
