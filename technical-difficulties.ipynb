{
 "cells": [
  {
   "cell_type": "markdown",
   "metadata": {},
   "source": [
    "### Exploring the Sequences of Technical Difficulties\n",
    "The aim here is to discover identifiers of technical difficulties. Are there sequences of behaviour that lead to the outcome have having technical difficulties?\n",
    "\n",
    "*Why do this?*\n",
    "This would provide an insight into the types of sequence patterns that users of interactive-media experiences exhibit when they experience some form of technical difficulty with the experience itself. Obviously, in this case, the focus is on video bufferring issues at this is the main reported technical problem with CAKE.\n",
    "\n",
    "*What do we currently know about the technical difficulties?*\n",
    "That the technical difficulties (apart from two users) are video-related issues. Each of the participants report that once they began to experience issues with the videos, they all switch to the written/cardview (where the cooking instructions are in a written format).\n",
    "\n",
    "*Points to consider*\n",
    "While each of the users in this example persevered through the video issues (they switched views), it's resonable to presume that this is due to the nature of where the data was collected from (the user experience study) whereas in a real setting most users probably wouldn't do this -- if they had issues, then it's unlikely that they would persevered (maybe a small percentage would). But conversationally, this highlights the need to detect and provide some form of fix for these issues -- to increase the retention rate of the experience(s). "
   ]
  },
  {
   "cell_type": "code",
   "execution_count": 4,
   "metadata": {},
   "outputs": [],
   "source": [
    "%matplotlib inline\n",
    "import pandas as pd\n",
    "import matplotlib.pyplot as plt\n",
    "import numpy as np\n",
    "import seaborn as sns"
   ]
  },
  {
   "cell_type": "markdown",
   "metadata": {},
   "source": [
    "As we know, due to the participants reporting, each participant that had video-related issues switched to the card view to solve this problem and complete the user experience study. So the first thing to establish is for each of these users, when is the first occurrence of this switching of views.\n",
    "\n",
    "As a note: It's worth noting that the switching to the card view, in this case, is seen as a solution to the problem as the participants report a positive experience (overall) with CAKE while using the card view."
   ]
  },
  {
   "cell_type": "code",
   "execution_count": 7,
   "metadata": {},
   "outputs": [
    {
     "data": {
      "text/html": [
       "<div>\n",
       "<style scoped>\n",
       "    .dataframe tbody tr th:only-of-type {\n",
       "        vertical-align: middle;\n",
       "    }\n",
       "\n",
       "    .dataframe tbody tr th {\n",
       "        vertical-align: top;\n",
       "    }\n",
       "\n",
       "    .dataframe thead th {\n",
       "        text-align: right;\n",
       "    }\n",
       "</style>\n",
       "<table border=\"1\" class=\"dataframe\">\n",
       "  <thead>\n",
       "    <tr style=\"text-align: right;\">\n",
       "      <th></th>\n",
       "      <th>id</th>\n",
       "      <th>participant_id</th>\n",
       "      <th>timestamp</th>\n",
       "      <th>pagetime</th>\n",
       "      <th>item</th>\n",
       "      <th>action</th>\n",
       "      <th>message</th>\n",
       "      <th>combined</th>\n",
       "      <th>combined_num</th>\n",
       "    </tr>\n",
       "  </thead>\n",
       "  <tbody>\n",
       "    <tr>\n",
       "      <th>0</th>\n",
       "      <td>2251</td>\n",
       "      <td>109</td>\n",
       "      <td>2017-08-20 19:21:27</td>\n",
       "      <td>0</td>\n",
       "      <td>play_pause_button</td>\n",
       "      <td>play</td>\n",
       "      <td>NaN</td>\n",
       "      <td>play_pause_button play</td>\n",
       "      <td>9</td>\n",
       "    </tr>\n",
       "    <tr>\n",
       "      <th>1</th>\n",
       "      <td>2258</td>\n",
       "      <td>109</td>\n",
       "      <td>2017-08-20 19:26:34</td>\n",
       "      <td>0</td>\n",
       "      <td>full_screen_button</td>\n",
       "      <td>fullscreen</td>\n",
       "      <td>NaN</td>\n",
       "      <td>full_screen_button fullscreen</td>\n",
       "      <td>27</td>\n",
       "    </tr>\n",
       "    <tr>\n",
       "      <th>2</th>\n",
       "      <td>3218</td>\n",
       "      <td>407</td>\n",
       "      <td>2017-08-22 22:00:41</td>\n",
       "      <td>0</td>\n",
       "      <td>play_pause_button</td>\n",
       "      <td>play</td>\n",
       "      <td>NaN</td>\n",
       "      <td>play_pause_button play</td>\n",
       "      <td>9</td>\n",
       "    </tr>\n",
       "    <tr>\n",
       "      <th>3</th>\n",
       "      <td>3219</td>\n",
       "      <td>407</td>\n",
       "      <td>2017-08-22 22:01:46</td>\n",
       "      <td>0</td>\n",
       "      <td>play_pause_button</td>\n",
       "      <td>play</td>\n",
       "      <td>NaN</td>\n",
       "      <td>play_pause_button play</td>\n",
       "      <td>9</td>\n",
       "    </tr>\n",
       "    <tr>\n",
       "      <th>4</th>\n",
       "      <td>3220</td>\n",
       "      <td>407</td>\n",
       "      <td>2017-08-23 08:06:17</td>\n",
       "      <td>0</td>\n",
       "      <td>play_pause_button</td>\n",
       "      <td>play</td>\n",
       "      <td>NaN</td>\n",
       "      <td>play_pause_button play</td>\n",
       "      <td>9</td>\n",
       "    </tr>\n",
       "  </tbody>\n",
       "</table>\n",
       "</div>"
      ],
      "text/plain": [
       "     id  participant_id            timestamp  pagetime                item  \\\n",
       "0  2251             109  2017-08-20 19:21:27         0   play_pause_button   \n",
       "1  2258             109  2017-08-20 19:26:34         0  full_screen_button   \n",
       "2  3218             407  2017-08-22 22:00:41         0   play_pause_button   \n",
       "3  3219             407  2017-08-22 22:01:46         0   play_pause_button   \n",
       "4  3220             407  2017-08-23 08:06:17         0   play_pause_button   \n",
       "\n",
       "       action  message                       combined  combined_num  \n",
       "0        play      NaN         play_pause_button play             9  \n",
       "1  fullscreen      NaN  full_screen_button fullscreen            27  \n",
       "2        play      NaN         play_pause_button play             9  \n",
       "3        play      NaN         play_pause_button play             9  \n",
       "4        play      NaN         play_pause_button play             9  "
      ]
     },
     "execution_count": 7,
     "metadata": {},
     "output_type": "execute_result"
    }
   ],
   "source": [
    "# First read in the two datasets; statistical and raw.\n",
    "td_raw = pd.read_csv('./data/cake_td_raw_data.csv')\n",
    "td_stats = pd.read_csv('./data/cake_td_stats_data.csv')\n",
    "td_raw.head()"
   ]
  },
  {
   "cell_type": "markdown",
   "metadata": {},
   "source": [
    "Let's firstly drop the participant 407, they only have three events logged and their issue was with the login form not working."
   ]
  },
  {
   "cell_type": "code",
   "execution_count": 18,
   "metadata": {},
   "outputs": [],
   "source": [
    "td_raw.drop(td_raw[td_raw['participant_id'] == 407].index, inplace=True)\n",
    "td_stats.drop(td_stats[td_stats['userid'] == 407].index, inplace=True)"
   ]
  },
  {
   "cell_type": "code",
   "execution_count": 19,
   "metadata": {},
   "outputs": [
    {
     "data": {
      "text/plain": [
       "{109: 29, 112: 234, 113: 553, 121: 165, 205: 68, 217: 489, 220: 309}"
      ]
     },
     "execution_count": 19,
     "metadata": {},
     "output_type": "execute_result"
    }
   ],
   "source": [
    "# Now, let's look at when the first occurrence of when the card view toggle is.\n",
    "td_pids = td_raw['participant_id'].unique()\n",
    "first_occurrence = {}\n",
    "for pid in td_pids:\n",
    "    temp_df = td_raw[td_raw['participant_id'] == pid]\n",
    "    loc_index = temp_df['item'].eq('cardView').idxmax()\n",
    "    first_occurrence[pid] = loc_index\n",
    "\n",
    "first_occurrence"
   ]
  },
  {
   "cell_type": "code",
   "execution_count": 28,
   "metadata": {},
   "outputs": [
    {
     "data": {
      "text/plain": [
       "{109: 27, 112: 25, 113: 11, 121: 20, 205: 13, 217: 21, 220: 17}"
      ]
     },
     "execution_count": 28,
     "metadata": {},
     "output_type": "execute_result"
    }
   ],
   "source": [
    "# So first off, let's look at the number of events before the first card view toggle.\n",
    "number_of_events = {}\n",
    "for key, value in first_occurrence.items():\n",
    "    temp_df = td_raw[td_raw['participant_id'] == key]\n",
    "    number_of_events[key] = len(temp_df.loc[:value])\n",
    "\n",
    "number_of_events"
   ]
  },
  {
   "cell_type": "markdown",
   "metadata": {},
   "source": [
    "Now that we have some basic data, let's just turn the two dictionaries into dataframes."
   ]
  },
  {
   "cell_type": "code",
   "execution_count": 31,
   "metadata": {},
   "outputs": [
    {
     "data": {
      "text/html": [
       "<div>\n",
       "<style scoped>\n",
       "    .dataframe tbody tr th:only-of-type {\n",
       "        vertical-align: middle;\n",
       "    }\n",
       "\n",
       "    .dataframe tbody tr th {\n",
       "        vertical-align: top;\n",
       "    }\n",
       "\n",
       "    .dataframe thead th {\n",
       "        text-align: right;\n",
       "    }\n",
       "</style>\n",
       "<table border=\"1\" class=\"dataframe\">\n",
       "  <thead>\n",
       "    <tr style=\"text-align: right;\">\n",
       "      <th></th>\n",
       "      <th>first_occ</th>\n",
       "      <th>num_events_up_to</th>\n",
       "    </tr>\n",
       "  </thead>\n",
       "  <tbody>\n",
       "    <tr>\n",
       "      <th>109</th>\n",
       "      <td>29</td>\n",
       "      <td>27</td>\n",
       "    </tr>\n",
       "    <tr>\n",
       "      <th>205</th>\n",
       "      <td>68</td>\n",
       "      <td>13</td>\n",
       "    </tr>\n",
       "    <tr>\n",
       "      <th>121</th>\n",
       "      <td>165</td>\n",
       "      <td>20</td>\n",
       "    </tr>\n",
       "    <tr>\n",
       "      <th>112</th>\n",
       "      <td>234</td>\n",
       "      <td>25</td>\n",
       "    </tr>\n",
       "    <tr>\n",
       "      <th>220</th>\n",
       "      <td>309</td>\n",
       "      <td>17</td>\n",
       "    </tr>\n",
       "    <tr>\n",
       "      <th>217</th>\n",
       "      <td>489</td>\n",
       "      <td>21</td>\n",
       "    </tr>\n",
       "    <tr>\n",
       "      <th>113</th>\n",
       "      <td>553</td>\n",
       "      <td>11</td>\n",
       "    </tr>\n",
       "  </tbody>\n",
       "</table>\n",
       "</div>"
      ],
      "text/plain": [
       "     first_occ  num_events_up_to\n",
       "109         29                27\n",
       "205         68                13\n",
       "121        165                20\n",
       "112        234                25\n",
       "220        309                17\n",
       "217        489                21\n",
       "113        553                11"
      ]
     },
     "execution_count": 31,
     "metadata": {},
     "output_type": "execute_result"
    }
   ],
   "source": [
    "td_event_df = pd.DataFrame.from_dict(first_occurrence, orient='index')\n",
    "td_event_df.columns = ['first_occ']\n",
    "td_event_df['num_events_up_to'] = pd.Series(number_of_events)\n",
    "td_event_df"
   ]
  },
  {
   "cell_type": "code",
   "execution_count": 32,
   "metadata": {},
   "outputs": [
    {
     "data": {
      "text/html": [
       "<div>\n",
       "<style scoped>\n",
       "    .dataframe tbody tr th:only-of-type {\n",
       "        vertical-align: middle;\n",
       "    }\n",
       "\n",
       "    .dataframe tbody tr th {\n",
       "        vertical-align: top;\n",
       "    }\n",
       "\n",
       "    .dataframe thead th {\n",
       "        text-align: right;\n",
       "    }\n",
       "</style>\n",
       "<table border=\"1\" class=\"dataframe\">\n",
       "  <thead>\n",
       "    <tr style=\"text-align: right;\">\n",
       "      <th></th>\n",
       "      <th>first_occ</th>\n",
       "      <th>num_events_up_to</th>\n",
       "    </tr>\n",
       "  </thead>\n",
       "  <tbody>\n",
       "    <tr>\n",
       "      <th>count</th>\n",
       "      <td>7.000000</td>\n",
       "      <td>7.000000</td>\n",
       "    </tr>\n",
       "    <tr>\n",
       "      <th>mean</th>\n",
       "      <td>263.857143</td>\n",
       "      <td>19.142857</td>\n",
       "    </tr>\n",
       "    <tr>\n",
       "      <th>std</th>\n",
       "      <td>200.213576</td>\n",
       "      <td>5.899960</td>\n",
       "    </tr>\n",
       "    <tr>\n",
       "      <th>min</th>\n",
       "      <td>29.000000</td>\n",
       "      <td>11.000000</td>\n",
       "    </tr>\n",
       "    <tr>\n",
       "      <th>25%</th>\n",
       "      <td>116.500000</td>\n",
       "      <td>15.000000</td>\n",
       "    </tr>\n",
       "    <tr>\n",
       "      <th>50%</th>\n",
       "      <td>234.000000</td>\n",
       "      <td>20.000000</td>\n",
       "    </tr>\n",
       "    <tr>\n",
       "      <th>75%</th>\n",
       "      <td>399.000000</td>\n",
       "      <td>23.000000</td>\n",
       "    </tr>\n",
       "    <tr>\n",
       "      <th>max</th>\n",
       "      <td>553.000000</td>\n",
       "      <td>27.000000</td>\n",
       "    </tr>\n",
       "  </tbody>\n",
       "</table>\n",
       "</div>"
      ],
      "text/plain": [
       "        first_occ  num_events_up_to\n",
       "count    7.000000          7.000000\n",
       "mean   263.857143         19.142857\n",
       "std    200.213576          5.899960\n",
       "min     29.000000         11.000000\n",
       "25%    116.500000         15.000000\n",
       "50%    234.000000         20.000000\n",
       "75%    399.000000         23.000000\n",
       "max    553.000000         27.000000"
      ]
     },
     "execution_count": 32,
     "metadata": {},
     "output_type": "execute_result"
    }
   ],
   "source": [
    "# Even though these are basic bits of information, let's just print out some descriptive statistics.\n",
    "td_event_df.describe()"
   ]
  },
  {
   "cell_type": "markdown",
   "metadata": {},
   "source": [
    "Let's look at some time-based data"
   ]
  },
  {
   "cell_type": "code",
   "execution_count": null,
   "metadata": {},
   "outputs": [],
   "source": [
    "# Convert the timestamp column to a datetime object type.\n",
    "td_raw['timestamp'] = pd.to_datetime(td_raw['timestamp'])"
   ]
  },
  {
   "cell_type": "code",
   "execution_count": 42,
   "metadata": {},
   "outputs": [],
   "source": [
    "def diff_in_mins(t1, t2):\n",
    "    td = t1 - t2\n",
    "    return td.total_seconds() / 60"
   ]
  },
  {
   "cell_type": "code",
   "execution_count": 47,
   "metadata": {},
   "outputs": [
    {
     "name": "stdout",
     "output_type": "stream",
     "text": [
      "2017-08-20 19:21:27\n",
      "2017-08-23 18:10:20\n",
      "2017-08-25 16:08:16\n",
      "2017-08-25 18:06:24\n",
      "2017-08-25 21:14:47\n",
      "2017-08-27 18:37:20\n",
      "2017-08-30 07:44:50\n"
     ]
    }
   ],
   "source": [
    "for row in td_event_df.itertuples():\n",
    "    temp_df = td_raw[td_raw['participant_id'] == row.Index]\n",
    "    timestamps = temp_df.loc[:row.first_occ, 'timestamp']\n",
    "    first_ts = timestamps.iloc[0]\n",
    "    last_td = timestamps.iloc[-1]"
   ]
  },
  {
   "cell_type": "code",
   "execution_count": null,
   "metadata": {},
   "outputs": [],
   "source": []
  }
 ],
 "metadata": {
  "kernelspec": {
   "display_name": "Python 3",
   "language": "python",
   "name": "python3"
  },
  "language_info": {
   "codemirror_mode": {
    "name": "ipython",
    "version": 3
   },
   "file_extension": ".py",
   "mimetype": "text/x-python",
   "name": "python",
   "nbconvert_exporter": "python",
   "pygments_lexer": "ipython3",
   "version": "3.6.4"
  }
 },
 "nbformat": 4,
 "nbformat_minor": 2
}
