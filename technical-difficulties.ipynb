{
 "cells": [
  {
   "cell_type": "markdown",
   "metadata": {},
   "source": [
    "### Exploring the Sequences of Technical Difficulties\n",
    "The aim here is to discover identifiers of technical difficulties. Are there sequences of behaviour that lead to the outcome have having technical difficulties?\n",
    "\n",
    "*Why do this?*\n",
    "This would provide an insight into the types of sequence patterns that users of interactive-media experiences exhibit when they experience some form of technical difficulty with the experience itself. Obviously, in this case, the focus is on video bufferring issues at this is the main reported technical problem with CAKE.\n",
    "\n",
    "*What do we currently know about the technical difficulties?*\n",
    "That the technical difficulties (apart from two users) are video-related issues. Each of the participants report that once they began to experience issues with the videos, they all switch to the written/cardview (where the cooking instructions are in a written format).\n",
    "\n",
    "*Points to consider*\n",
    "While each of the users in this example persevered through the video issues (they switched views), it's resonable to presume that this is due to the nature of where the data was collected from (the user experience study) whereas in a real setting most users probably wouldn't do this -- if they had issues, then it's unlikely that they would persevered (maybe a small percentage would). But conversationally, this highlights the need to detect and provide some form of fix for these issues -- to increase the retention rate of the experience(s). "
   ]
  },
  {
   "cell_type": "code",
   "execution_count": 3,
   "metadata": {},
   "outputs": [],
   "source": [
    "%matplotlib inline\n",
    "import pandas as pd\n",
    "import matplotlib.pyplot as plt\n",
    "import numpy as np"
   ]
  },
  {
   "cell_type": "code",
   "execution_count": null,
   "metadata": {},
   "outputs": [],
   "source": []
  }
 ],
 "metadata": {
  "kernelspec": {
   "display_name": "Python 3",
   "language": "python",
   "name": "python3"
  },
  "language_info": {
   "codemirror_mode": {
    "name": "ipython",
    "version": 3
   },
   "file_extension": ".py",
   "mimetype": "text/x-python",
   "name": "python",
   "nbconvert_exporter": "python",
   "pygments_lexer": "ipython3",
   "version": "3.6.4"
  }
 },
 "nbformat": 4,
 "nbformat_minor": 2
}
