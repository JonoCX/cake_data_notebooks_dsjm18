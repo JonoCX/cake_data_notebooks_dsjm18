{
 "cells": [
  {
   "cell_type": "markdown",
   "metadata": {},
   "source": [
    "## Exploratory Analysis (Time Series, etc.)\n",
    "This is the time-series based analysis of the CAKE data. \n",
    "\n",
    "We have identified users that have reported technical difficulties during the CAKE experience, what behaviours do they present? \n",
    "\n",
    "More specifically, what did the participants report themselves:\n",
    "- 109: \"video wouldn't load so switched to read mode\"\n",
    "- 425: \"videos very slow to load so ended up not watching\"\n",
    "- 407: \"login didn't work\"\n",
    "- 205: \"videos didn't play at all\"\n",
    "- 121: \"wasn't clear how many oranges we needed\"\n",
    "- 112: \"unable to view the videos\"\n",
    "- 220: \"the video kept buffering, followed \"read\" instead\"\n",
    "- 217: \"video didn't load so followed written instruction\"\n",
    "- 113: \"the video didn't work, followed written instruction\"\n",
    "- 401: \"video kept freezing\""
   ]
  },
  {
   "cell_type": "code",
   "execution_count": 364,
   "metadata": {},
   "outputs": [],
   "source": [
    "%matplotlib inline\n",
    "import pandas as pd\n",
    "import matplotlib.pyplot as plt\n",
    "import numpy as np"
   ]
  },
  {
   "cell_type": "markdown",
   "metadata": {},
   "source": [
    "Firstly, let's import the techincal difficulties data (both the raw event data and the statistical data)."
   ]
  },
  {
   "cell_type": "code",
   "execution_count": 134,
   "metadata": {},
   "outputs": [],
   "source": [
    "df_raw = pd.read_csv('./data/technical-difficult-interactions.csv')\n",
    "df_stats = pd.read_csv('./data/technical-difficult-interactions_results.csv')"
   ]
  },
  {
   "cell_type": "markdown",
   "metadata": {},
   "source": [
    "Currently, the timestamp column is an object. Let's convert it to a date time object, this will aid later in the process."
   ]
  },
  {
   "cell_type": "code",
   "execution_count": 135,
   "metadata": {},
   "outputs": [],
   "source": [
    "df_raw['timestamp'] = pd.to_datetime(df_raw['timestamp'])"
   ]
  },
  {
   "cell_type": "markdown",
   "metadata": {},
   "source": [
    "In terms of visualisation, let's first look at the total number of events recorded for each of these participants"
   ]
  },
  {
   "cell_type": "code",
   "execution_count": 136,
   "metadata": {},
   "outputs": [
    {
     "data": {
      "text/plain": [
       "<matplotlib.axes._subplots.AxesSubplot at 0x151b9a85f8>"
      ]
     },
     "execution_count": 136,
     "metadata": {},
     "output_type": "execute_result"
    },
    {
     "data": {
      "image/png": "[encoded data removed]",
      "text/plain": [
       "<matplotlib.figure.Figure at 0x1196e62b0>"
      ]
     },
     "metadata": {},
     "output_type": "display_data"
    }
   ],
   "source": [
    "df_stats.plot(x='userid', y='totalEvents', kind='bar', legend=False)"
   ]
  },
  {
   "cell_type": "markdown",
   "metadata": {},
   "source": [
    "Well, what does that tell us? Nothing, really. Notable things from this plot; 220 has a larger amount of recorded interactions, while both 401 and 407 have essentially none - the rest of the group are rougly around the same mark. Let's find out the descriptive statistics for the totalEvents."
   ]
  },
  {
   "cell_type": "code",
   "execution_count": 137,
   "metadata": {},
   "outputs": [
    {
     "data": {
      "text/plain": [
       "count     10.000000\n",
       "mean      63.200000\n",
       "std       49.138806\n",
       "min        1.000000\n",
       "25%       42.500000\n",
       "50%       64.000000\n",
       "75%       77.750000\n",
       "max      176.000000\n",
       "Name: totalEvents, dtype: float64"
      ]
     },
     "execution_count": 137,
     "metadata": {},
     "output_type": "execute_result"
    }
   ],
   "source": [
    "df_stats['totalEvents'].describe()"
   ]
  },
  {
   "cell_type": "markdown",
   "metadata": {},
   "source": [
    "So yes, the majority of users in this case hover around the mean of the totalEvents count. Presumably (I know, shouldn't really make presumptions without evidence) they all got to a particular point in the experience and gave up? In terms of comparison, let's have a look at the totalEvents for the interaction events collected during the live period of the experimental study."
   ]
  },
  {
   "cell_type": "code",
   "execution_count": 138,
   "metadata": {},
   "outputs": [
    {
     "data": {
      "text/plain": [
       "count    116.000000\n",
       "mean      45.810345\n",
       "std       47.161132\n",
       "min        1.000000\n",
       "25%       10.000000\n",
       "50%       38.500000\n",
       "75%       62.250000\n",
       "max      282.000000\n",
       "Name: totalEvents, dtype: float64"
      ]
     },
     "execution_count": 138,
     "metadata": {},
     "output_type": "execute_result"
    }
   ],
   "source": [
    "df_live_stats = pd.read_csv('./data/live-interactions_statistics_results.csv')\n",
    "df_live_stats['totalEvents'].describe()"
   ]
  },
  {
   "cell_type": "markdown",
   "metadata": {},
   "source": [
    "So it's clear from above that the live data has a lower mean (when considering the total number of events per user). Does this show a trend? Possibly. There could be an argument that the higher (mean) number of events is just coincidental or that it shows people that experience technical difficulties produce, on average, a larger quantity of events.\n",
    "\n",
    "Okay then, what about the length of time they spent on the experience? The statistical data is in __seconds__ so let's convert it to __minutes__ first and then plot."
   ]
  },
  {
   "cell_type": "code",
   "execution_count": 139,
   "metadata": {},
   "outputs": [
    {
     "data": {
      "text/plain": [
       "<matplotlib.axes._subplots.AxesSubplot at 0x118fc3048>"
      ]
     },
     "execution_count": 139,
     "metadata": {},
     "output_type": "execute_result"
    },
    {
     "data": {
      "image/png": "[encoded data removed]",
      "text/plain": [
       "<matplotlib.figure.Figure at 0x11a1c24a8>"
      ]
     },
     "metadata": {},
     "output_type": "display_data"
    }
   ],
   "source": [
    "def get_mins(x):\n",
    "    min, sec = divmod(x, 60)\n",
    "    return float('{}.{}'.format(min, sec))\n",
    "\n",
    "df_stats['totalTimeMin'] = df_stats['totalTime'].apply(get_mins)\n",
    "df_stats.plot(x='userid', y='totalTimeMin', kind='bar', legend=False)"
   ]
  },
  {
   "cell_type": "markdown",
   "metadata": {},
   "source": [
    "109 is definitely the larger interaction period. Let's have a look at the data to see exactly how much."
   ]
  },
  {
   "cell_type": "code",
   "execution_count": 140,
   "metadata": {},
   "outputs": [
    {
     "data": {
      "text/html": [
       "<div>\n",
       "<style scoped>\n",
       "    .dataframe tbody tr th:only-of-type {\n",
       "        vertical-align: middle;\n",
       "    }\n",
       "\n",
       "    .dataframe tbody tr th {\n",
       "        vertical-align: top;\n",
       "    }\n",
       "\n",
       "    .dataframe thead th {\n",
       "        text-align: right;\n",
       "    }\n",
       "</style>\n",
       "<table border=\"1\" class=\"dataframe\">\n",
       "  <thead>\n",
       "    <tr style=\"text-align: right;\">\n",
       "      <th></th>\n",
       "      <th>userid</th>\n",
       "      <th>totalEvents</th>\n",
       "      <th>totalTime</th>\n",
       "      <th>totalTimeBetweenClicks</th>\n",
       "      <th>meanTimeBetweenClicks</th>\n",
       "      <th>stdTimeBetweenClicks</th>\n",
       "      <th>meanClicksPerSecond</th>\n",
       "      <th>stdClicksPerSecond</th>\n",
       "      <th>meanClicksPerMinute</th>\n",
       "      <th>stdClicksPerMinute</th>\n",
       "      <th>mostFrequentItemAction</th>\n",
       "      <th>totalTimeMin</th>\n",
       "    </tr>\n",
       "  </thead>\n",
       "  <tbody>\n",
       "    <tr>\n",
       "      <th>0</th>\n",
       "      <td>109</td>\n",
       "      <td>79</td>\n",
       "      <td>257396</td>\n",
       "      <td>257396</td>\n",
       "      <td>3258.177215</td>\n",
       "      <td>28521.065588</td>\n",
       "      <td>1.000000</td>\n",
       "      <td>0.000000</td>\n",
       "      <td>2.548387</td>\n",
       "      <td>2.419900</td>\n",
       "      <td>0 next_button</td>\n",
       "      <td>4289.56</td>\n",
       "    </tr>\n",
       "    <tr>\n",
       "      <th>1</th>\n",
       "      <td>425</td>\n",
       "      <td>47</td>\n",
       "      <td>4734</td>\n",
       "      <td>4734</td>\n",
       "      <td>100.723404</td>\n",
       "      <td>375.524080</td>\n",
       "      <td>1.021739</td>\n",
       "      <td>0.147442</td>\n",
       "      <td>2.473684</td>\n",
       "      <td>1.836918</td>\n",
       "      <td>1593921 window</td>\n",
       "      <td>78.54</td>\n",
       "    </tr>\n",
       "    <tr>\n",
       "      <th>2</th>\n",
       "      <td>407</td>\n",
       "      <td>3</td>\n",
       "      <td>36336</td>\n",
       "      <td>36336</td>\n",
       "      <td>12112.000000</td>\n",
       "      <td>20922.332972</td>\n",
       "      <td>1.000000</td>\n",
       "      <td>0.000000</td>\n",
       "      <td>1.000000</td>\n",
       "      <td>0.000000</td>\n",
       "      <td>0 play_pause_button</td>\n",
       "      <td>605.36</td>\n",
       "    </tr>\n",
       "    <tr>\n",
       "      <th>3</th>\n",
       "      <td>205</td>\n",
       "      <td>64</td>\n",
       "      <td>2819</td>\n",
       "      <td>2819</td>\n",
       "      <td>44.046875</td>\n",
       "      <td>94.748528</td>\n",
       "      <td>1.142857</td>\n",
       "      <td>0.483494</td>\n",
       "      <td>2.909091</td>\n",
       "      <td>2.810001</td>\n",
       "      <td>0 next_button</td>\n",
       "      <td>46.59</td>\n",
       "    </tr>\n",
       "    <tr>\n",
       "      <th>4</th>\n",
       "      <td>121</td>\n",
       "      <td>64</td>\n",
       "      <td>2592</td>\n",
       "      <td>2592</td>\n",
       "      <td>40.500000</td>\n",
       "      <td>124.163487</td>\n",
       "      <td>1.084746</td>\n",
       "      <td>0.384534</td>\n",
       "      <td>3.368421</td>\n",
       "      <td>3.832761</td>\n",
       "      <td>0 next_button</td>\n",
       "      <td>43.12</td>\n",
       "    </tr>\n",
       "    <tr>\n",
       "      <th>5</th>\n",
       "      <td>112</td>\n",
       "      <td>83</td>\n",
       "      <td>3722</td>\n",
       "      <td>3722</td>\n",
       "      <td>44.843373</td>\n",
       "      <td>93.581513</td>\n",
       "      <td>1.000000</td>\n",
       "      <td>0.000000</td>\n",
       "      <td>3.074074</td>\n",
       "      <td>2.758566</td>\n",
       "      <td>0 next_button</td>\n",
       "      <td>62.20</td>\n",
       "    </tr>\n",
       "    <tr>\n",
       "      <th>6</th>\n",
       "      <td>220</td>\n",
       "      <td>176</td>\n",
       "      <td>2005</td>\n",
       "      <td>2005</td>\n",
       "      <td>11.392045</td>\n",
       "      <td>56.014893</td>\n",
       "      <td>1.213793</td>\n",
       "      <td>0.699069</td>\n",
       "      <td>8.800000</td>\n",
       "      <td>7.804182</td>\n",
       "      <td>0 back_button</td>\n",
       "      <td>33.25</td>\n",
       "    </tr>\n",
       "    <tr>\n",
       "      <th>7</th>\n",
       "      <td>217</td>\n",
       "      <td>74</td>\n",
       "      <td>2207</td>\n",
       "      <td>2207</td>\n",
       "      <td>29.824324</td>\n",
       "      <td>54.856065</td>\n",
       "      <td>1.138462</td>\n",
       "      <td>0.428549</td>\n",
       "      <td>3.083333</td>\n",
       "      <td>3.386889</td>\n",
       "      <td>0 next_button</td>\n",
       "      <td>36.47</td>\n",
       "    </tr>\n",
       "    <tr>\n",
       "      <th>8</th>\n",
       "      <td>113</td>\n",
       "      <td>41</td>\n",
       "      <td>1167</td>\n",
       "      <td>1167</td>\n",
       "      <td>28.463415</td>\n",
       "      <td>67.725216</td>\n",
       "      <td>1.025000</td>\n",
       "      <td>0.158114</td>\n",
       "      <td>4.100000</td>\n",
       "      <td>3.871549</td>\n",
       "      <td>0 next_button</td>\n",
       "      <td>19.27</td>\n",
       "    </tr>\n",
       "    <tr>\n",
       "      <th>9</th>\n",
       "      <td>401</td>\n",
       "      <td>1</td>\n",
       "      <td>0</td>\n",
       "      <td>0</td>\n",
       "      <td>0.000000</td>\n",
       "      <td>0.000000</td>\n",
       "      <td>1.000000</td>\n",
       "      <td>0.000000</td>\n",
       "      <td>1.000000</td>\n",
       "      <td>0.000000</td>\n",
       "      <td>2147483647 v1</td>\n",
       "      <td>0.00</td>\n",
       "    </tr>\n",
       "  </tbody>\n",
       "</table>\n",
       "</div>"
      ],
      "text/plain": [
       "   userid  totalEvents  totalTime  totalTimeBetweenClicks  \\\n",
       "0     109           79     257396                  257396   \n",
       "1     425           47       4734                    4734   \n",
       "2     407            3      36336                   36336   \n",
       "3     205           64       2819                    2819   \n",
       "4     121           64       2592                    2592   \n",
       "5     112           83       3722                    3722   \n",
       "6     220          176       2005                    2005   \n",
       "7     217           74       2207                    2207   \n",
       "8     113           41       1167                    1167   \n",
       "9     401            1          0                       0   \n",
       "\n",
       "   meanTimeBetweenClicks  stdTimeBetweenClicks  meanClicksPerSecond  \\\n",
       "0            3258.177215          28521.065588             1.000000   \n",
       "1             100.723404            375.524080             1.021739   \n",
       "2           12112.000000          20922.332972             1.000000   \n",
       "3              44.046875             94.748528             1.142857   \n",
       "4              40.500000            124.163487             1.084746   \n",
       "5              44.843373             93.581513             1.000000   \n",
       "6              11.392045             56.014893             1.213793   \n",
       "7              29.824324             54.856065             1.138462   \n",
       "8              28.463415             67.725216             1.025000   \n",
       "9               0.000000              0.000000             1.000000   \n",
       "\n",
       "   stdClicksPerSecond  meanClicksPerMinute  stdClicksPerMinute  \\\n",
       "0            0.000000             2.548387            2.419900   \n",
       "1            0.147442             2.473684            1.836918   \n",
       "2            0.000000             1.000000            0.000000   \n",
       "3            0.483494             2.909091            2.810001   \n",
       "4            0.384534             3.368421            3.832761   \n",
       "5            0.000000             3.074074            2.758566   \n",
       "6            0.699069             8.800000            7.804182   \n",
       "7            0.428549             3.083333            3.386889   \n",
       "8            0.158114             4.100000            3.871549   \n",
       "9            0.000000             1.000000            0.000000   \n",
       "\n",
       "  mostFrequentItemAction  totalTimeMin  \n",
       "0          0 next_button       4289.56  \n",
       "1         1593921 window         78.54  \n",
       "2    0 play_pause_button        605.36  \n",
       "3          0 next_button         46.59  \n",
       "4          0 next_button         43.12  \n",
       "5          0 next_button         62.20  \n",
       "6          0 back_button         33.25  \n",
       "7          0 next_button         36.47  \n",
       "8          0 next_button         19.27  \n",
       "9          2147483647 v1          0.00  "
      ]
     },
     "execution_count": 140,
     "metadata": {},
     "output_type": "execute_result"
    }
   ],
   "source": [
    "df_stats"
   ]
  },
  {
   "cell_type": "markdown",
   "metadata": {},
   "source": [
    "So we've identified the users that have had technical difficulties and the majority had video-related issues. Now, how do we model that? Furthermore, how do we also include the statistical information into the model."
   ]
  },
  {
   "cell_type": "code",
   "execution_count": 141,
   "metadata": {},
   "outputs": [
    {
     "data": {
      "text/plain": [
       "Text(0,0.5,'number of events at the grouping')"
      ]
     },
     "execution_count": 141,
     "metadata": {},
     "output_type": "execute_result"
    },
    {
     "data": {
      "image/png": "[encoded data removed]",
      "text/plain": [
       "<matplotlib.figure.Figure at 0x118ea8d68>"
      ]
     },
     "metadata": {},
     "output_type": "display_data"
    }
   ],
   "source": [
    "ax = df_raw[df_raw['participant_id'] == 112]['timestamp']\\\n",
    ".groupby([df_raw['timestamp'].dt.hour, df_raw['timestamp'].dt.minute])\\\n",
    ".count().plot()\n",
    "ax.set_xlabel('minute + hour grouping (hour, min)')\n",
    "ax.set_ylabel('number of events at the grouping')"
   ]
  },
  {
   "cell_type": "markdown",
   "metadata": {},
   "source": [
    "***\n",
    "### Exploring the sequences of actions performed by each of the participants\n",
    "There are a few interesting questions that you can ask here.\n",
    "\n",
    "Do we need to consider the next and back button? Does it really tell us anything in this context? What is noticable from the feedback given by the participants is that once they started having issues with the videos they just switched to the other view. \n",
    "\n",
    "Now, what if we just consider everything up until the first cardview toggle event? How many steps is this? What does the sequence look like in the build up?\n",
    "\n",
    "The rationale behind this is two-fold; firstly, it's based on the feedback provided by the participants, and secondly, it reduces the sequence of item and action pairs -- currently the sequences are very long, and after they've switched views most participants just carry on with the task as normal."
   ]
  },
  {
   "cell_type": "code",
   "execution_count": 217,
   "metadata": {},
   "outputs": [
    {
     "data": {
      "text/html": [
       "<div>\n",
       "<style scoped>\n",
       "    .dataframe tbody tr th:only-of-type {\n",
       "        vertical-align: middle;\n",
       "    }\n",
       "\n",
       "    .dataframe tbody tr th {\n",
       "        vertical-align: top;\n",
       "    }\n",
       "\n",
       "    .dataframe thead th {\n",
       "        text-align: right;\n",
       "    }\n",
       "</style>\n",
       "<table border=\"1\" class=\"dataframe\">\n",
       "  <thead>\n",
       "    <tr style=\"text-align: right;\">\n",
       "      <th></th>\n",
       "      <th>id</th>\n",
       "      <th>participant_id</th>\n",
       "      <th>timestamp</th>\n",
       "      <th>pagetime</th>\n",
       "      <th>item</th>\n",
       "      <th>action</th>\n",
       "      <th>message</th>\n",
       "      <th>combined</th>\n",
       "      <th>combined_num</th>\n",
       "    </tr>\n",
       "  </thead>\n",
       "  <tbody>\n",
       "    <tr>\n",
       "      <th>0</th>\n",
       "      <td>2251</td>\n",
       "      <td>109</td>\n",
       "      <td>2017-08-20 19:21:27</td>\n",
       "      <td>0</td>\n",
       "      <td>play_pause_button</td>\n",
       "      <td>play</td>\n",
       "      <td>NaN</td>\n",
       "      <td>play_pause_button play</td>\n",
       "      <td>9</td>\n",
       "    </tr>\n",
       "    <tr>\n",
       "      <th>1</th>\n",
       "      <td>2258</td>\n",
       "      <td>109</td>\n",
       "      <td>2017-08-20 19:26:34</td>\n",
       "      <td>0</td>\n",
       "      <td>full_screen_button</td>\n",
       "      <td>fullscreen</td>\n",
       "      <td>NaN</td>\n",
       "      <td>full_screen_button fullscreen</td>\n",
       "      <td>27</td>\n",
       "    </tr>\n",
       "    <tr>\n",
       "      <th>2</th>\n",
       "      <td>3059</td>\n",
       "      <td>425</td>\n",
       "      <td>2017-08-22 17:31:32</td>\n",
       "      <td>24156</td>\n",
       "      <td>window</td>\n",
       "      <td>blur</td>\n",
       "      <td>NaN</td>\n",
       "      <td>window blur</td>\n",
       "      <td>7</td>\n",
       "    </tr>\n",
       "    <tr>\n",
       "      <th>3</th>\n",
       "      <td>3060</td>\n",
       "      <td>425</td>\n",
       "      <td>2017-08-22 17:31:36</td>\n",
       "      <td>27647</td>\n",
       "      <td>window</td>\n",
       "      <td>focus</td>\n",
       "      <td>NaN</td>\n",
       "      <td>window focus</td>\n",
       "      <td>5</td>\n",
       "    </tr>\n",
       "    <tr>\n",
       "      <th>4</th>\n",
       "      <td>3061</td>\n",
       "      <td>425</td>\n",
       "      <td>2017-08-22 17:31:37</td>\n",
       "      <td>28958</td>\n",
       "      <td>v1</td>\n",
       "      <td>play</td>\n",
       "      <td>0 fullscreen=false</td>\n",
       "      <td>v1 play</td>\n",
       "      <td>8</td>\n",
       "    </tr>\n",
       "  </tbody>\n",
       "</table>\n",
       "</div>"
      ],
      "text/plain": [
       "     id  participant_id           timestamp  pagetime                item  \\\n",
       "0  2251             109 2017-08-20 19:21:27         0   play_pause_button   \n",
       "1  2258             109 2017-08-20 19:26:34         0  full_screen_button   \n",
       "2  3059             425 2017-08-22 17:31:32     24156              window   \n",
       "3  3060             425 2017-08-22 17:31:36     27647              window   \n",
       "4  3061             425 2017-08-22 17:31:37     28958                  v1   \n",
       "\n",
       "       action             message                       combined  combined_num  \n",
       "0        play                 NaN         play_pause_button play             9  \n",
       "1  fullscreen                 NaN  full_screen_button fullscreen            27  \n",
       "2        blur                 NaN                    window blur             7  \n",
       "3       focus                 NaN                   window focus             5  \n",
       "4        play  0 fullscreen=false                        v1 play             8  "
      ]
     },
     "execution_count": 217,
     "metadata": {},
     "output_type": "execute_result"
    }
   ],
   "source": [
    "# Create the combined column and convert it to an integer value using the Label Encoder\n",
    "df_raw['combined'] = df_raw[['item', 'action']].apply(lambda x: ' '.join(x), axis=1)\n",
    "le = preprocessing.LabelEncoder()\n",
    "combined_encoded = le.fit_transform(df_raw['combined'].unique())\n",
    "combined_dict = dict(zip(le.classes_, combined_encoded))\n",
    "df_raw['combined_num'] = df_raw['combined'].map(combined_dict)\n",
    "df_raw.head()"
   ]
  },
  {
   "cell_type": "markdown",
   "metadata": {},
   "source": [
    "***\n",
    "### Statistical Exploration of the Data\n",
    "This subset of the notebook is dedicated to exploring the statistical differences between the two sets of data (those with technical difficulties and those without). \n",
    "\n",
    "It'll apply techniques such as ANOVA, Parwise Comparisons, and maybe PCA.\n",
    "- ANOVA: Used to determine whether there are any statistically significant differences between the means of the data.\n",
    "- Pairwise comparison: *look up the meaning*"
   ]
  },
  {
   "cell_type": "code",
   "execution_count": 243,
   "metadata": {},
   "outputs": [],
   "source": [
    "import scipy.stats as stats\n",
    "df_live_stats = pd.read_csv('./data/live-interactions_statistics_results.csv')\n",
    "df_live_stats['totalTimeMin'] = df_live_stats['totalTime'].apply(get_mins)\n",
    "df_live_stats.drop(['sessionNo', 'mostFrequentItemAction'], inplace=True, axis=1) # just drop this for this bit.\n",
    "df_stats.drop(['mostFrequentItemAction'], inplace=True, axis=1)"
   ]
  },
  {
   "cell_type": "code",
   "execution_count": 244,
   "metadata": {},
   "outputs": [
    {
     "name": "stdout",
     "output_type": "stream",
     "text": [
      "totalEvents, (1.2439708345352691, 0.2668640254380009)\n",
      "totalTime, (16.901387582354698, 7.109506845435359e-05)\n",
      "totalTimeBetweenClicks, (16.901387582354698, 7.109506845435359e-05)\n",
      "meanTimeBetweenClicks, (19.54986283806715, 2.116422752939854e-05)\n",
      "stdTimeBetweenClicks, (27.738541948074598, 5.933438882315955e-07)\n",
      "meanClicksPerSecond, (0.7300869683694365, 0.3945027731524635)\n",
      "stdClicksPerSecond, (0.3022861981455943, 0.583441638199127)\n",
      "meanClicksPerMinute, (0.0016800339990792111, 0.9673712120619895)\n",
      "stdClicksPerMinute, (0.0028878743985271604, 0.9572296353561962)\n",
      "totalTimeMin, (16.89481672223679, 7.131184973601627e-05)\n"
     ]
    }
   ],
   "source": [
    "for col in df_stats.columns:\n",
    "    if (col == 'userid') or (col == 'mostFrequentItemAction') or (col == 'label'):\n",
    "        continue\n",
    "    else:\n",
    "        s, p = stats.f_oneway(df_live_stats[col], df_stats[col])\n",
    "        print('{}, ({}, {})'.format(col, s, p))"
   ]
  },
  {
   "cell_type": "code",
   "execution_count": 247,
   "metadata": {},
   "outputs": [],
   "source": [
    "from sklearn.decomposition import PCA\n",
    "from sklearn.preprocessing import StandardScaler\n",
    "\n",
    "# Add labels\n",
    "df_stats['label'] = 0\n",
    "df_live_stats['label'] = 1\n",
    "\n",
    "features = pd.concat([df_stats, df_live_stats], ignore_index=True)\n",
    "y = features['label']\n",
    "X = features.loc[:, 'totalEvents':'totalTimeMin']\n",
    "\n",
    "X_norm = pd.DataFrame(StandardScaler().fit_transform(X), columns=X.columns) # standardise\n",
    "\n",
    "pca = PCA(n_components=2)\n",
    "transformed = pd.DataFrame(pca.fit_transform(X_norm)) # apply PCA"
   ]
  },
  {
   "cell_type": "code",
   "execution_count": 289,
   "metadata": {},
   "outputs": [
    {
     "data": {
      "image/png": "[encoded data removed]",
      "text/plain": [
       "<matplotlib.figure.Figure at 0x1a210bc940>"
      ]
     },
     "metadata": {},
     "output_type": "display_data"
    }
   ],
   "source": [
    "# Plot the PCA results\n",
    "plt.scatter(transformed[y==1][0], transformed[y==1][1], label='Typical', c='blue')\n",
    "plt.scatter(transformed[y==0][0], transformed[y==0][1], label='Tech Diff', c='red')\n",
    "plt.legend()\n",
    "plt.show()"
   ]
  },
  {
   "cell_type": "code",
   "execution_count": 283,
   "metadata": {},
   "outputs": [
    {
     "data": {
      "text/plain": [
       "<matplotlib.collections.PathCollection at 0x1a20f21208>"
      ]
     },
     "execution_count": 283,
     "metadata": {},
     "output_type": "execute_result"
    },
    {
     "data": {
      "image/png": "[encoded data removed]",
      "text/plain": [
       "<matplotlib.figure.Figure at 0x1a20e38eb8>"
      ]
     },
     "metadata": {},
     "output_type": "display_data"
    }
   ],
   "source": [
    "f, axarr = plt.subplots(2)\n",
    "f.suptitle('Comparison of the data when PCA has been applied (red = tech diff & blue = typical)')\n",
    "axarr[0].scatter(transformed[y==0][0], transformed[y==0][1], c='red')\n",
    "axarr[1].scatter(transformed[y==1][0], transformed[y==1][1], c='blue')"
   ]
  },
  {
   "cell_type": "markdown",
   "metadata": {},
   "source": [
    "But how does the SMOTE over-sampling change this I wonder?"
   ]
  },
  {
   "cell_type": "code",
   "execution_count": null,
   "metadata": {},
   "outputs": [],
   "source": [
    "from imblearn.over_sampling import SMOTE\n",
    "X_resampled, y_resampled = SMOTE(kind='svm').fit_sample(X, y)\n",
    "X_resampled = pca.fit_transform(X_resampled)\n",
    "f1, axarr2 = plt.subplots(2)\n",
    "f1.suptitle('test')\n",
    "axarr2[0].scatter(X_resampled[y_resampled==0][0], X_resampled[y_resampled==0][0], c='red')\n",
    "axarr2[1].scatter(X_resampled[y_resampled==1][1], X_resampled[y_resampled==1][1], c='blue')"
   ]
  },
  {
   "cell_type": "markdown",
   "metadata": {},
   "source": [
    "Post task clear up. Let's remove the label feature from the live stats."
   ]
  },
  {
   "cell_type": "code",
   "execution_count": 346,
   "metadata": {},
   "outputs": [],
   "source": [
    "df_live_stats.drop(['label'], axis=1, inplace=True)\n",
    "df_stats.drop(['label'], axis=1, inplace=True)"
   ]
  },
  {
   "cell_type": "markdown",
   "metadata": {},
   "source": [
    "***\n",
    "### Comparison of Technical Difficulties vs Typical Users\n",
    "The motivation here is to explore the differences between the two sets of users and to hopefully answer questions such as; do they look similar? Where do they differ? If they differ, then how and why? etc.\n",
    "\n",
    "The first step is to remove the linear users from the live recorded data -- so we are only comparing those interactions that were recorded on CAKE. This removal has been done using an SQL query outside of the notebook (essentially just selected those with the condition = {1, 2}) but we still need to drop the condition from this new CSV file."
   ]
  },
  {
   "cell_type": "code",
   "execution_count": 347,
   "metadata": {},
   "outputs": [
    {
     "data": {
      "text/html": [
       "<div>\n",
       "<style scoped>\n",
       "    .dataframe tbody tr th:only-of-type {\n",
       "        vertical-align: middle;\n",
       "    }\n",
       "\n",
       "    .dataframe tbody tr th {\n",
       "        vertical-align: top;\n",
       "    }\n",
       "\n",
       "    .dataframe thead th {\n",
       "        text-align: right;\n",
       "    }\n",
       "</style>\n",
       "<table border=\"1\" class=\"dataframe\">\n",
       "  <thead>\n",
       "    <tr style=\"text-align: right;\">\n",
       "      <th></th>\n",
       "      <th>participant_id</th>\n",
       "      <th>timestamp</th>\n",
       "      <th>pagetime</th>\n",
       "      <th>item</th>\n",
       "      <th>action</th>\n",
       "      <th>message</th>\n",
       "    </tr>\n",
       "  </thead>\n",
       "  <tbody>\n",
       "    <tr>\n",
       "      <th>0</th>\n",
       "      <td>206</td>\n",
       "      <td>2017-08-17 13:21:26</td>\n",
       "      <td>0</td>\n",
       "      <td>play_pause_button</td>\n",
       "      <td>play</td>\n",
       "      <td>NaN</td>\n",
       "    </tr>\n",
       "    <tr>\n",
       "      <th>1</th>\n",
       "      <td>206</td>\n",
       "      <td>2017-08-17 13:22:00</td>\n",
       "      <td>0</td>\n",
       "      <td>select_recipe</td>\n",
       "      <td>mullet</td>\n",
       "      <td>NaN</td>\n",
       "    </tr>\n",
       "    <tr>\n",
       "      <th>2</th>\n",
       "      <td>223</td>\n",
       "      <td>2017-08-17 14:12:35</td>\n",
       "      <td>0</td>\n",
       "      <td>play_pause_button</td>\n",
       "      <td>play</td>\n",
       "      <td>NaN</td>\n",
       "    </tr>\n",
       "    <tr>\n",
       "      <th>3</th>\n",
       "      <td>223</td>\n",
       "      <td>2017-08-17 14:13:14</td>\n",
       "      <td>0</td>\n",
       "      <td>select_recipe</td>\n",
       "      <td>mullet</td>\n",
       "      <td>NaN</td>\n",
       "    </tr>\n",
       "    <tr>\n",
       "      <th>4</th>\n",
       "      <td>223</td>\n",
       "      <td>2017-08-17 14:13:27</td>\n",
       "      <td>0</td>\n",
       "      <td>experience_level</td>\n",
       "      <td>not_really</td>\n",
       "      <td>NaN</td>\n",
       "    </tr>\n",
       "  </tbody>\n",
       "</table>\n",
       "</div>"
      ],
      "text/plain": [
       "   participant_id            timestamp  pagetime               item  \\\n",
       "0             206  2017-08-17 13:21:26         0  play_pause_button   \n",
       "1             206  2017-08-17 13:22:00         0      select_recipe   \n",
       "2             223  2017-08-17 14:12:35         0  play_pause_button   \n",
       "3             223  2017-08-17 14:13:14         0      select_recipe   \n",
       "4             223  2017-08-17 14:13:27         0   experience_level   \n",
       "\n",
       "       action  message  \n",
       "0        play      NaN  \n",
       "1      mullet      NaN  \n",
       "2        play      NaN  \n",
       "3      mullet      NaN  \n",
       "4  not_really      NaN  "
      ]
     },
     "execution_count": 347,
     "metadata": {},
     "output_type": "execute_result"
    }
   ],
   "source": [
    "cake_data = pd.read_csv('./data/cake_alone_interactions.csv')\n",
    "cake_data.drop(['id', 'condition'], axis=1, inplace=True)\n",
    "cake_data.head()"
   ]
  },
  {
   "cell_type": "code",
   "execution_count": 348,
   "metadata": {},
   "outputs": [
    {
     "data": {
      "text/html": [
       "<div>\n",
       "<style scoped>\n",
       "    .dataframe tbody tr th:only-of-type {\n",
       "        vertical-align: middle;\n",
       "    }\n",
       "\n",
       "    .dataframe tbody tr th {\n",
       "        vertical-align: top;\n",
       "    }\n",
       "\n",
       "    .dataframe thead th {\n",
       "        text-align: right;\n",
       "    }\n",
       "</style>\n",
       "<table border=\"1\" class=\"dataframe\">\n",
       "  <thead>\n",
       "    <tr style=\"text-align: right;\">\n",
       "      <th></th>\n",
       "      <th>userid</th>\n",
       "      <th>totalEvents</th>\n",
       "      <th>totalTime</th>\n",
       "      <th>totalTimeBetweenClicks</th>\n",
       "      <th>meanTimeBetweenClicks</th>\n",
       "      <th>stdTimeBetweenClicks</th>\n",
       "      <th>meanClicksPerSecond</th>\n",
       "      <th>stdClicksPerSecond</th>\n",
       "      <th>meanClicksPerMinute</th>\n",
       "      <th>stdClicksPerMinute</th>\n",
       "      <th>totalTimeMin</th>\n",
       "    </tr>\n",
       "  </thead>\n",
       "  <tbody>\n",
       "    <tr>\n",
       "      <th>3</th>\n",
       "      <td>206</td>\n",
       "      <td>2</td>\n",
       "      <td>34</td>\n",
       "      <td>34</td>\n",
       "      <td>17.000000</td>\n",
       "      <td>24.041631</td>\n",
       "      <td>1.000000</td>\n",
       "      <td>0.000000</td>\n",
       "      <td>1.000000</td>\n",
       "      <td>0.000000</td>\n",
       "      <td>0.34</td>\n",
       "    </tr>\n",
       "    <tr>\n",
       "      <th>4</th>\n",
       "      <td>206</td>\n",
       "      <td>77</td>\n",
       "      <td>287</td>\n",
       "      <td>287</td>\n",
       "      <td>3.727273</td>\n",
       "      <td>6.229464</td>\n",
       "      <td>1.509804</td>\n",
       "      <td>0.880285</td>\n",
       "      <td>12.833333</td>\n",
       "      <td>15.223885</td>\n",
       "      <td>4.47</td>\n",
       "    </tr>\n",
       "    <tr>\n",
       "      <th>5</th>\n",
       "      <td>206</td>\n",
       "      <td>112</td>\n",
       "      <td>2776</td>\n",
       "      <td>2776</td>\n",
       "      <td>24.785714</td>\n",
       "      <td>36.817159</td>\n",
       "      <td>1.000000</td>\n",
       "      <td>0.000000</td>\n",
       "      <td>3.111111</td>\n",
       "      <td>2.538591</td>\n",
       "      <td>46.16</td>\n",
       "    </tr>\n",
       "    <tr>\n",
       "      <th>6</th>\n",
       "      <td>223</td>\n",
       "      <td>7</td>\n",
       "      <td>175</td>\n",
       "      <td>175</td>\n",
       "      <td>25.000000</td>\n",
       "      <td>30.697448</td>\n",
       "      <td>1.000000</td>\n",
       "      <td>0.000000</td>\n",
       "      <td>1.750000</td>\n",
       "      <td>0.957427</td>\n",
       "      <td>2.55</td>\n",
       "    </tr>\n",
       "    <tr>\n",
       "      <th>7</th>\n",
       "      <td>223</td>\n",
       "      <td>45</td>\n",
       "      <td>1782</td>\n",
       "      <td>1782</td>\n",
       "      <td>39.600000</td>\n",
       "      <td>37.250015</td>\n",
       "      <td>1.000000</td>\n",
       "      <td>0.000000</td>\n",
       "      <td>1.800000</td>\n",
       "      <td>1.080123</td>\n",
       "      <td>29.42</td>\n",
       "    </tr>\n",
       "  </tbody>\n",
       "</table>\n",
       "</div>"
      ],
      "text/plain": [
       "   userid  totalEvents  totalTime  totalTimeBetweenClicks  \\\n",
       "3     206            2         34                      34   \n",
       "4     206           77        287                     287   \n",
       "5     206          112       2776                    2776   \n",
       "6     223            7        175                     175   \n",
       "7     223           45       1782                    1782   \n",
       "\n",
       "   meanTimeBetweenClicks  stdTimeBetweenClicks  meanClicksPerSecond  \\\n",
       "3              17.000000             24.041631             1.000000   \n",
       "4               3.727273              6.229464             1.509804   \n",
       "5              24.785714             36.817159             1.000000   \n",
       "6              25.000000             30.697448             1.000000   \n",
       "7              39.600000             37.250015             1.000000   \n",
       "\n",
       "   stdClicksPerSecond  meanClicksPerMinute  stdClicksPerMinute  totalTimeMin  \n",
       "3            0.000000             1.000000            0.000000          0.34  \n",
       "4            0.880285            12.833333           15.223885          4.47  \n",
       "5            0.000000             3.111111            2.538591         46.16  \n",
       "6            0.000000             1.750000            0.957427          2.55  \n",
       "7            0.000000             1.800000            1.080123         29.42  "
      ]
     },
     "execution_count": 348,
     "metadata": {},
     "output_type": "execute_result"
    }
   ],
   "source": [
    "# Select the statistics for the cake data users, ignoring the linear participants.\n",
    "cake_data_stats = df_live_stats[df_live_stats['userid'].isin(cake_data['participant_id'].unique())]\n",
    "cake_data_stats.head()"
   ]
  },
  {
   "cell_type": "code",
   "execution_count": 447,
   "metadata": {},
   "outputs": [
    {
     "data": {
      "text/plain": [
       "id                         int64\n",
       "participant_id             int64\n",
       "timestamp         datetime64[ns]\n",
       "pagetime                   int64\n",
       "item                      object\n",
       "action                    object\n",
       "message                   object\n",
       "combined                  object\n",
       "combined_num               int64\n",
       "dtype: object"
      ]
     },
     "execution_count": 447,
     "metadata": {},
     "output_type": "execute_result"
    }
   ],
   "source": [
    "# Select the technical difficulties users that are cake users, ignoring the linear participants. It's worth noting that only two of the technical\n",
    "# difficulty users are NOT cake participants.\n",
    "cake_tech_diff_users = [109, 407, 205, 121, 112, 220, 217, 113]\n",
    "cake_td_raw = df_raw[df_raw['participant_id'].isin(cake_tech_diff_users)]\n",
    "cake_td_stats = df_stats[df_stats['userid'].isin(cake_tech_diff_users)]\n",
    "#cake_td_stats.head()\n",
    "cake_td_raw.dtypes"
   ]
  },
  {
   "cell_type": "code",
   "execution_count": 448,
   "metadata": {},
   "outputs": [
    {
     "data": {
      "text/plain": [
       "<matplotlib.lines.Line2D at 0x1a6c897978>"
      ]
     },
     "execution_count": 448,
     "metadata": {},
     "output_type": "execute_result"
    },
    {
     "data": {
      "image/png": "[encoded data removed]",
      "text/plain": [
       "<matplotlib.figure.Figure at 0x1a216415f8>"
      ]
     },
     "metadata": {},
     "output_type": "display_data"
    }
   ],
   "source": [
    "# Plot the histogram for the length of the session.\n",
    "plt.figure()\n",
    "plt.hist(cake_data_stats['totalTimeMin'], bins=16, edgecolor='k', alpha=0.65, color='c')\n",
    "plt.xlabel('Session Length (in minutes)')\n",
    "plt.ylabel('# of participants')\n",
    "plt.axvline(cake_data_stats['totalTimeMin'].mean(), color='r', linestyle='dashed', linewidth=1)"
   ]
  },
  {
   "cell_type": "code",
   "execution_count": 449,
   "metadata": {},
   "outputs": [
    {
     "data": {
      "text/plain": [
       "<matplotlib.lines.Line2D at 0x1a6c748cc0>"
      ]
     },
     "execution_count": 449,
     "metadata": {},
     "output_type": "execute_result"
    },
    {
     "data": {
      "image/png": "[encoded data removed]",
      "text/plain": [
       "<matplotlib.figure.Figure at 0x1a6c6e81d0>"
      ]
     },
     "metadata": {},
     "output_type": "display_data"
    }
   ],
   "source": [
    "# Plot the histogram for the length of the session for technical difficulties users\n",
    "plt.figure()\n",
    "plt.hist(cake_td_stats['totalTimeMin'], bins=16, edgecolor='k', alpha=0.65, color='c')\n",
    "plt.xlabel('Session Length (in minutes)')\n",
    "plt.ylabel('# of participants')\n",
    "plt.axvline(cake_td_stats['totalTimeMin'].mean(), color='r', linestyle='dashed', linewidth=1)"
   ]
  },
  {
   "cell_type": "markdown",
   "metadata": {},
   "source": [
    "The above plot shows the histogram for the total time in minutes each of the participants (with technical difficulties) lastest. As is clear, one of the participants is skewing the data (109) -- let's try this plot without that user being included."
   ]
  },
  {
   "cell_type": "code",
   "execution_count": 450,
   "metadata": {},
   "outputs": [
    {
     "data": {
      "text/plain": [
       "<matplotlib.lines.Line2D at 0x1a2166eef0>"
      ]
     },
     "execution_count": 450,
     "metadata": {},
     "output_type": "execute_result"
    },
    {
     "data": {
      "image/png": "[encoded data removed]",
      "text/plain": [
       "<matplotlib.figure.Figure at 0x1a6c760320>"
      ]
     },
     "metadata": {},
     "output_type": "display_data"
    }
   ],
   "source": [
    "cake_td_stats = cake_td_stats.drop(cake_td_stats[cake_td_stats['userid'] == 109].index)\n",
    "plt.figure()\n",
    "plt.hist(cake_td_stats['totalTimeMin'], bins=16, edgecolor='k', alpha=0.65, color='c')\n",
    "plt.xlabel('Session Length (in minutes)')\n",
    "plt.ylabel('# of participants')\n",
    "plt.axvline(cake_td_stats['totalTimeMin'].mean(), color='r', linestyle='dashed', linewidth=1)"
   ]
  },
  {
   "cell_type": "code",
   "execution_count": 451,
   "metadata": {},
   "outputs": [
    {
     "data": {
      "text/plain": [
       "Text(0,0.5,'# of participants')"
      ]
     },
     "execution_count": 451,
     "metadata": {},
     "output_type": "execute_result"
    },
    {
     "data": {
      "image/png": "[encoded data removed]",
      "text/plain": [
       "<matplotlib.figure.Figure at 0x1a6c964e48>"
      ]
     },
     "metadata": {},
     "output_type": "display_data"
    }
   ],
   "source": [
    "plt.figure()\n",
    "plt.hist(cake_data_stats['totalTimeMin'], bins=16, alpha=0.5, label='Typical')\n",
    "plt.hist(cake_td_stats['totalTimeMin'], bins=16, alpha=0.5, label='Tech Diff')\n",
    "plt.legend()\n",
    "plt.xlabel('Session Length (in minutes)')\n",
    "plt.ylabel('# of participants')"
   ]
  },
  {
   "cell_type": "markdown",
   "metadata": {},
   "source": [
    "So, now the problem seems to be that that the participant with ~600 minute long session (?...) is skewing the data so getting a proper comparison is hard. What does the above look like if we exlucude this participant as well...\n",
    "\n",
    "It should be noted that this participant, 407, has only 3 events recorded!"
   ]
  },
  {
   "cell_type": "code",
   "execution_count": 452,
   "metadata": {},
   "outputs": [
    {
     "data": {
      "text/plain": [
       "<matplotlib.lines.Line2D at 0x1a664cce80>"
      ]
     },
     "execution_count": 452,
     "metadata": {},
     "output_type": "execute_result"
    },
    {
     "data": {
      "image/png": "[encoded data removed]",
      "text/plain": [
       "<matplotlib.figure.Figure at 0x1a21641ba8>"
      ]
     },
     "metadata": {},
     "output_type": "display_data"
    }
   ],
   "source": [
    "cake_td_stats = cake_td_stats.drop(cake_td_stats[cake_td_stats['userid'] == 407].index)\n",
    "plt.figure()\n",
    "plt.hist(cake_data_stats['totalTimeMin'], bins='auto', alpha=0.5, label='Typical', edgecolor='k', color='c')\n",
    "plt.hist(cake_td_stats['totalTimeMin'], bins='auto', alpha=0.5, label='Tech Diff', edgecolor='k', color='r')\n",
    "plt.legend()\n",
    "plt.xlabel('Session Length (in minutes)')\n",
    "plt.ylabel('# of participants')\n",
    "plt.axvline(cake_td_stats['totalTimeMin'].mean(), color='r', linestyle='dashed', linewidth=1)\n",
    "plt.axvline(cake_data_stats['totalTimeMin'].mean(), color='c', linestyle='dashed', linewidth=1)"
   ]
  },
  {
   "cell_type": "markdown",
   "metadata": {},
   "source": [
    "What does the above plot tell us? Well, from a session length perspective, and apart from the grouping of users on the left of the plot (those with much shorter sessions), that typical users that seem to take on average ~30 minutes while technical difficulties participants take ~40 minutes. The main point here is that from this perspective, they seem to be essentially the same."
   ]
  },
  {
   "cell_type": "code",
   "execution_count": 487,
   "metadata": {},
   "outputs": [
    {
     "name": "stdout",
     "output_type": "stream",
     "text": [
      "defaultdict(<class 'list'>, {109: [(5, 1), (10, 1), (15, 0), (20, 0), (25, 0), (30, 0), (35, 0), (40, 0), (45, 0), (50, 0), (55, 0), (60, 0), (65, 0), (70, 0), (75, 0), (80, 0), (85, 0), (90, 0), (95, 0), (100, 0), (105, 0), (110, 0), (115, 0), (120, 0), (125, 0), (130, 0), (135, 0), (140, 0), (145, 0), (150, 0), (155, 0), (160, 0), (165, 0), (170, 0), (175, 0), (180, 0), (185, 0), (190, 0), (195, 0), (200, 0), (205, 0), (210, 0), (215, 0), (220, 0), (225, 0), (230, 0), (235, 0), (240, 0), (245, 0), (250, 0), (255, 0), (260, 0), (265, 0), (270, 0), (275, 0), (280, 0), (285, 0), (290, 0), (295, 0), (300, 0), (305, 0), (310, 0), (315, 0), (320, 0), (325, 0), (330, 0), (335, 0), (340, 0), (345, 0), (350, 0), (355, 0), (360, 0), (365, 0), (370, 0), (375, 0), (380, 0), (385, 0), (390, 0), (395, 0), (400, 0), (405, 0), (410, 0), (415, 0), (420, 0), (425, 0), (430, 0), (435, 0), (440, 0), (445, 0), (450, 0), (455, 0), (460, 0), (465, 0), (470, 0), (475, 0), (480, 0), (485, 0), (490, 0), (495, 0), (500, 0), (505, 0), (510, 0), (515, 0), (520, 0), (525, 0), (530, 0), (535, 0), (540, 0), (545, 0), (550, 0), (555, 0), (560, 0), (565, 0), (570, 0), (575, 0), (580, 0), (585, 0), (590, 0), (595, 0), (600, 0), (605, 0), (610, 0), (615, 0), (620, 0), (625, 0), (630, 0), (635, 0), (640, 0), (645, 0), (650, 0), (655, 0), (660, 0), (665, 0), (670, 0), (675, 0), (680, 0), (685, 0), (690, 0), (695, 0), (700, 0), (705, 0), (710, 0), (715, 0), (720, 0), (725, 0), (730, 0), (735, 0), (740, 0), (745, 0), (750, 0), (755, 0), (760, 0), (765, 0), (770, 0), (775, 0), (780, 0), (785, 0), (790, 0), (795, 0), (800, 0), (805, 0), (810, 0), (815, 0), (820, 0), (825, 0), (830, 0), (835, 0), (840, 0), (845, 0), (850, 0), (855, 0), (860, 0), (865, 0), (870, 0), (875, 0), (880, 0), (885, 0), (890, 0), (895, 0), (900, 0), (905, 0), (910, 0), (915, 0), (920, 0), (925, 0), (930, 0), (935, 0), (940, 0), (945, 0), (950, 0), (955, 0), (960, 0), (965, 0), (970, 0), (975, 0), (980, 0), (985, 0), (990, 0), (995, 0), (1000, 0), (1005, 0), (1010, 0), (1015, 0), (1020, 0), (1025, 0), (1030, 0), (1035, 0), (1040, 0), (1045, 0), (1050, 0), (1055, 0), (1060, 0), (1065, 0), (1070, 0), (1075, 0), (1080, 0), (1085, 0), (1090, 0), (1095, 0), (1100, 0), (1105, 0), (1110, 0), (1115, 0), (1120, 0), (1125, 0), (1130, 0), (1135, 0), (1140, 0), (1145, 0), (1150, 0), (1155, 0), (1160, 0), (1165, 0), (1170, 0), (1175, 0), (1180, 0), (1185, 0), (1190, 0), (1195, 0), (1200, 0), (1205, 0), (1210, 0), (1215, 0), (1220, 0), (1225, 0), (1230, 0), (1235, 0), (1240, 0), (1245, 0), (1250, 0), (1255, 0), (1260, 0), (1265, 0), (1270, 0), (1275, 0), (1280, 0), (1285, 0), (1290, 0), (1295, 0), (1300, 0), (1305, 0), (1310, 0), (1315, 0), (1320, 0), (1325, 0), (1330, 0), (1335, 0), (1340, 0), (1345, 0), (1350, 0), (1355, 0), (1360, 0), (1365, 0), (1370, 0), (1375, 0), (1380, 0), (1385, 0), (1390, 0), (1395, 0), (1400, 0), (1405, 0), (1410, 0), (1415, 0), (1420, 0), (1425, 0), (1430, 0), (1435, 0), (1440, 0), (1445, 0), (1450, 0), (1455, 0), (1460, 0), (1465, 0), (1470, 0), (1475, 0), (1480, 0), (1485, 0), (1490, 0), (1495, 0), (1500, 0), (1505, 0), (1510, 0), (1515, 0), (1520, 0), (1525, 0), (1530, 0), (1535, 0), (1540, 0), (1545, 0), (1550, 0), (1555, 0), (1560, 0), (1565, 0), (1570, 0), (1575, 0), (1580, 0), (1585, 0), (1590, 0), (1595, 0), (1600, 0), (1605, 0), (1610, 0), (1615, 0), (1620, 0), (1625, 0), (1630, 0), (1635, 0), (1640, 0), (1645, 0), (1650, 0), (1655, 0), (1660, 0), (1665, 0), (1670, 0), (1675, 0), (1680, 0), (1685, 0), (1690, 0), (1695, 0), (1700, 0), (1705, 0), (1710, 0), (1715, 0), (1720, 0), (1725, 0), (1730, 0), (1735, 0), (1740, 0), (1745, 0), (1750, 0), (1755, 0), (1760, 0), (1765, 0), (1770, 0), (1775, 0), (1780, 0), (1785, 0), (1790, 0), (1795, 0), (1800, 0), (1805, 0), (1810, 0), (1815, 0), (1820, 0), (1825, 0), (1830, 0), (1835, 0), (1840, 0), (1845, 0), (1850, 0), (1855, 0), (1860, 0), (1865, 0), (1870, 0), (1875, 0), (1880, 0), (1885, 0), (1890, 0), (1895, 0), (1900, 0), (1905, 0), (1910, 0), (1915, 0), (1920, 0), (1925, 0), (1930, 0), (1935, 0), (1940, 0), (1945, 0), (1950, 0), (1955, 0), (1960, 0), (1965, 0), (1970, 0), (1975, 0), (1980, 0), (1985, 0), (1990, 0), (1995, 0), (2000, 0), (2005, 0), (2010, 0), (2015, 0), (2020, 0), (2025, 0), (2030, 0), (2035, 0), (2040, 0), (2045, 0), (2050, 0), (2055, 0), (2060, 0), (2065, 0), (2070, 0), (2075, 0), (2080, 0), (2085, 0), (2090, 0), (2095, 0), (2100, 0), (2105, 0), (2110, 0), (2115, 0), (2120, 0), (2125, 0), (2130, 0), (2135, 0), (2140, 0), (2145, 0), (2150, 0), (2155, 0), (2160, 0), (2165, 0), (2170, 0), (2175, 0), (2180, 0), (2185, 0), (2190, 0), (2195, 0), (2200, 0), (2205, 0), (2210, 0), (2215, 0), (2220, 0), (2225, 0), (2230, 0), (2235, 0), (2240, 0), (2245, 0), (2250, 0), (2255, 0), (2260, 0), (2265, 0), (2270, 0), (2275, 0), (2280, 0), (2285, 0), (2290, 0), (2295, 0), (2300, 0), (2305, 0), (2310, 0), (2315, 0), (2320, 0), (2325, 0), (2330, 0), (2335, 0), (2340, 0), (2345, 0), (2350, 0), (2355, 0), (2360, 0), (2365, 0), (2370, 0), (2375, 0), (2380, 0), (2385, 0), (2390, 0), (2395, 0), (2400, 0), (2405, 0), (2410, 0), (2415, 0), (2420, 0), (2425, 0), (2430, 0), (2435, 0), (2440, 0), (2445, 0), (2450, 0), (2455, 0), (2460, 0), (2465, 0), (2470, 0), (2475, 0), (2480, 0), (2485, 0), (2490, 0), (2495, 0), (2500, 0), (2505, 0), (2510, 0), (2515, 0), (2520, 0), (2525, 0), (2530, 0), (2535, 0), (2540, 0), (2545, 0), (2550, 0), (2555, 0), (2560, 0), (2565, 0), (2570, 0), (2575, 0), (2580, 0), (2585, 0), (2590, 0), (2595, 0), (2600, 0), (2605, 0), (2610, 0), (2615, 0), (2620, 0), (2625, 0), (2630, 0), (2635, 0), (2640, 0), (2645, 0), (2650, 0), (2655, 0), (2660, 0), (2665, 0), (2670, 0), (2675, 0), (2680, 0), (2685, 0), (2690, 0), (2695, 0), (2700, 0), (2705, 0), (2710, 0), (2715, 0), (2720, 0), (2725, 0), (2730, 0), (2735, 0), (2740, 0), (2745, 0), (2750, 0), (2755, 0), (2760, 0), (2765, 0), (2770, 0), (2775, 0), (2780, 0), (2785, 0), (2790, 0), (2795, 0), (2800, 0), (2805, 0), (2810, 0), (2815, 0), (2820, 0), (2825, 0), (2830, 0), (2835, 0), (2840, 0), (2845, 0), (2850, 0), (2855, 0), (2860, 0), (2865, 0), (2870, 0), (2875, 0), (2880, 0), (2885, 0), (2890, 0), (2895, 0), (2900, 0), (2905, 0), (2910, 0), (2915, 0), (2920, 0), (2925, 0), (2930, 0), (2935, 0), (2940, 0), (2945, 0), (2950, 0), (2955, 0), (2960, 0), (2965, 0), (2970, 0), (2975, 0), (2980, 0), (2985, 0), (2990, 0), (2995, 0), (3000, 0), (3005, 0), (3010, 0), (3015, 0), (3020, 0), (3025, 0), (3030, 0), (3035, 0), (3040, 0), (3045, 0), (3050, 0), (3055, 0), (3060, 0), (3065, 0), (3070, 0), (3075, 0), (3080, 0), (3085, 0), (3090, 0), (3095, 0), (3100, 0), (3105, 0), (3110, 0), (3115, 0), (3120, 0), (3125, 0), (3130, 0), (3135, 0), (3140, 0), (3145, 0), (3150, 0), (3155, 0), (3160, 0), (3165, 0), (3170, 0), (3175, 0), (3180, 0), (3185, 0), (3190, 0), (3195, 0), (3200, 0), (3205, 0), (3210, 0), (3215, 0), (3220, 0), (3225, 0), (3230, 0), (3235, 0), (3240, 0), (3245, 0), (3250, 0), (3255, 0), (3260, 0), (3265, 0), (3270, 0), (3275, 0), (3280, 0), (3285, 0), (3290, 0), (3295, 0), (3300, 0), (3305, 0), (3310, 0), (3315, 0), (3320, 0), (3325, 0), (3330, 0), (3335, 0), (3340, 0), (3345, 0), (3350, 0), (3355, 0), (3360, 0), (3365, 0), (3370, 0), (3375, 0), (3380, 0), (3385, 0), (3390, 0), (3395, 0), (3400, 0), (3405, 0), (3410, 0), (3415, 0), (3420, 0), (3425, 0), (3430, 0), (3435, 0), (3440, 0), (3445, 0), (3450, 0), (3455, 0), (3460, 0), (3465, 0), (3470, 0), (3475, 0), (3480, 0), (3485, 0), (3490, 0), (3495, 0), (3500, 0), (3505, 0), (3510, 0), (3515, 0), (3520, 0), (3525, 0), (3530, 0), (3535, 0), (3540, 0), (3545, 0), (3550, 0), (3555, 0), (3560, 0), (3565, 0), (3570, 0), (3575, 0), (3580, 0), (3585, 0), (3590, 0), (3595, 0), (3600, 0), (3605, 0), (3610, 0), (3615, 0), (3620, 0), (3625, 0), (3630, 0), (3635, 0), (3640, 0), (3645, 0), (3650, 0), (3655, 0), (3660, 0), (3665, 0), (3670, 0), (3675, 0), (3680, 0), (3685, 0), (3690, 0), (3695, 0), (3700, 0), (3705, 0), (3710, 0), (3715, 0), (3720, 0), (3725, 0), (3730, 0), (3735, 0), (3740, 0), (3745, 0), (3750, 0), (3755, 0), (3760, 0), (3765, 0), (3770, 0), (3775, 0), (3780, 0), (3785, 0), (3790, 0), (3795, 0), (3800, 0), (3805, 0), (3810, 0), (3815, 0), (3820, 0), (3825, 0), (3830, 0), (3835, 0), (3840, 0), (3845, 0), (3850, 0), (3855, 0), (3860, 0), (3865, 0), (3870, 0), (3875, 0), (3880, 0), (3885, 0), (3890, 0), (3895, 0), (3900, 0), (3905, 0), (3910, 0), (3915, 0), (3920, 0), (3925, 0), (3930, 0), (3935, 0), (3940, 0), (3945, 0), (3950, 0), (3955, 0), (3960, 0), (3965, 0), (3970, 0), (3975, 0), (3980, 0), (3985, 0), (3990, 0), (3995, 0), (4000, 0), (4005, 0), (4010, 0), (4015, 0), (4020, 0), (4025, 0), (4030, 0), (4035, 0), (4040, 0), (4045, 0), (4050, 0), (4055, 0), (4060, 0), (4065, 0), (4070, 0), (4075, 0), (4080, 0), (4085, 0), (4090, 0), (4095, 0), (4100, 0), (4105, 0), (4110, 0), (4115, 0), (4120, 0), (4125, 0), (4130, 0), (4135, 0), (4140, 0), (4145, 0), (4150, 0), (4155, 0), (4160, 0), (4165, 0), (4170, 0), (4175, 0), (4180, 0), (4185, 0), (4190, 0), (4195, 0), (4200, 0), (4205, 0), (4210, 0), (4215, 0), (4220, 0), (4225, 0), (4230, 0), (4235, 1), (4240, 1), (4245, 7), (4250, 31), (4255, 10), (4260, 11), (4265, 1), (4270, 3), (4275, 1), (4280, 0), (4285, 2), (4290, 8), (4295, 1)], 407: [(5, 2), (10, 0), (15, 0), (20, 0), (25, 0), (30, 0), (35, 0), (40, 0), (45, 0), (50, 0), (55, 0), (60, 0), (65, 0), (70, 0), (75, 0), (80, 0), (85, 0), (90, 0), (95, 0), (100, 0), (105, 0), (110, 0), (115, 0), (120, 0), (125, 0), (130, 0), (135, 0), (140, 0), (145, 0), (150, 0), (155, 0), (160, 0), (165, 0), (170, 0), (175, 0), (180, 0), (185, 0), (190, 0), (195, 0), (200, 0), (205, 0), (210, 0), (215, 0), (220, 0), (225, 0), (230, 0), (235, 0), (240, 0), (245, 0), (250, 0), (255, 0), (260, 0), (265, 0), (270, 0), (275, 0), (280, 0), (285, 0), (290, 0), (295, 0), (300, 0), (305, 0), (310, 0), (315, 0), (320, 0), (325, 0), (330, 0), (335, 0), (340, 0), (345, 0), (350, 0), (355, 0), (360, 0), (365, 0), (370, 0), (375, 0), (380, 0), (385, 0), (390, 0), (395, 0), (400, 0), (405, 0), (410, 0), (415, 0), (420, 0), (425, 0), (430, 0), (435, 0), (440, 0), (445, 0), (450, 0), (455, 0), (460, 0), (465, 0), (470, 0), (475, 0), (480, 0), (485, 0), (490, 0), (495, 0), (500, 0), (505, 0), (510, 0), (515, 0), (520, 0), (525, 0), (530, 0), (535, 0), (540, 0), (545, 0), (550, 0), (555, 0), (560, 0), (565, 0), (570, 0), (575, 0), (580, 0), (585, 0), (590, 0), (595, 0), (600, 0), (605, 0), (610, 1)], 205: [(5, 9), (10, 17), (15, 0), (20, 3), (25, 5), (30, 10), (35, 5), (40, 10), (45, 2), (50, 3)], 121: [(5, 7), (10, 3), (15, 11), (20, 5), (25, 3), (30, 26), (35, 1), (40, 0), (45, 3), (50, 5)], 112: [(5, 4), (10, 13), (15, 11), (20, 9), (25, 1), (30, 19), (35, 2), (40, 9), (45, 7), (50, 4), (55, 0), (60, 2), (65, 2)], 220: [(5, 1), (10, 0), (15, 18), (20, 61), (25, 81), (30, 4), (35, 0), (40, 11)], 217: [(5, 9), (10, 11), (15, 8), (20, 5), (25, 27), (30, 5), (35, 4), (40, 5)], 113: [(5, 1), (10, 12), (15, 20), (20, 1), (25, 7)]})\n"
     ]
    }
   ],
   "source": [
    "# This code will produce a dictionary that has the signature: {id : [(5min increments, event count), ...]}. The idea for this is so we can \n",
    "# compare the number of events over time (see notebook for plot idea). This should probably be changed to a function.\n",
    "from collections import defaultdict\n",
    "plot_data = defaultdict(list)\n",
    "for uid in cake_td_raw['participant_id'].unique():\n",
    "    internal_df = pd.DataFrame(cake_td_raw[cake_td_raw['participant_id'] == uid])\n",
    "    internal_df.set_index('timestamp', inplace=True)\n",
    "    internal_df['count'] = 1\n",
    "    data = internal_df.groupby(pd.Grouper(freq='5min')).aggregate(np.sum)\n",
    "    key = 5\n",
    "    for val in data['count']:\n",
    "        plot_data[uid].append(tuple([key, val]))\n",
    "        key += 5"
   ]
  },
  {
   "cell_type": "code",
   "execution_count": null,
   "metadata": {},
   "outputs": [],
   "source": []
  }
 ],
 "metadata": {
  "kernelspec": {
   "display_name": "Python 3",
   "language": "python",
   "name": "python3"
  },
  "language_info": {
   "codemirror_mode": {
    "name": "ipython",
    "version": 3
   },
   "file_extension": ".py",
   "mimetype": "text/x-python",
   "name": "python",
   "nbconvert_exporter": "python",
   "pygments_lexer": "ipython3",
   "version": "3.6.4"
  }
 },
 "nbformat": 4,
 "nbformat_minor": 2
}
