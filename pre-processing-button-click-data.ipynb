{
 "cells": [
  {
   "cell_type": "markdown",
   "metadata": {},
   "source": [
    "### Preprocessing the Button Click data\n",
    "Need to find the multiple session users and remove the technical difficulties participants."
   ]
  },
  {
   "cell_type": "code",
   "execution_count": 2,
   "metadata": {},
   "outputs": [],
   "source": [
    "import pandas as pd"
   ]
  },
  {
   "cell_type": "code",
   "execution_count": 3,
   "metadata": {},
   "outputs": [],
   "source": [
    "technical_difficulties_pid = [\"109\", \"112\", \"113\", \"121\", \"217\", \"220\", \"205\", \"401\", \"407\", \"425\"]\n",
    "del_index = []\n",
    "\n",
    "def remove_technical_difficulties(row):\n",
    "    pid = row['userid']\n",
    "    if pid in technical_difficulties_pid:\n",
    "        return del_index.append(row.name)"
   ]
  },
  {
   "cell_type": "code",
   "execution_count": 4,
   "metadata": {},
   "outputs": [
    {
     "data": {
      "text/plain": [
       "count    116.000000\n",
       "mean      45.810345\n",
       "std       47.161132\n",
       "min        1.000000\n",
       "25%       10.000000\n",
       "50%       38.500000\n",
       "75%       62.250000\n",
       "max      282.000000\n",
       "Name: totalEvents, dtype: float64"
      ]
     },
     "execution_count": 4,
     "metadata": {},
     "output_type": "execute_result"
    }
   ],
   "source": [
    "df_live = pd.read_csv('./data/live-interactions_statistics_results.csv')\n",
    "\n",
    "# apply the function to remove the pids\n",
    "df_live.apply(remove_technical_difficulties, axis=1)\n",
    "df_live.drop(del_index, inplace=True)\n",
    "df_live.totalEvents.describe()"
   ]
  },
  {
   "cell_type": "code",
   "execution_count": null,
   "metadata": {},
   "outputs": [],
   "source": []
  }
 ],
 "metadata": {
  "kernelspec": {
   "display_name": "Python 3",
   "language": "python",
   "name": "python3"
  },
  "language_info": {
   "codemirror_mode": {
    "name": "ipython",
    "version": 3
   },
   "file_extension": ".py",
   "mimetype": "text/x-python",
   "name": "python",
   "nbconvert_exporter": "python",
   "pygments_lexer": "ipython3",
   "version": "3.6.4"
  }
 },
 "nbformat": 4,
 "nbformat_minor": 2
}
